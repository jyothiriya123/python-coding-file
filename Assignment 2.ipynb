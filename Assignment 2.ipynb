{
 "cells": [
  {
   "cell_type": "code",
   "execution_count": 1,
   "id": "9898b9a1",
   "metadata": {},
   "outputs": [],
   "source": [
    "#1. create a python to print lower case alphabets (a-z) with conditional statement"
   ]
  },
  {
   "cell_type": "code",
   "execution_count": 19,
   "id": "05e845a7",
   "metadata": {},
   "outputs": [
    {
     "name": "stdout",
     "output_type": "stream",
     "text": [
      "abcdefghijklmnopqrstuvwxyz\n"
     ]
    }
   ],
   "source": [
    "x=\"ABCDEFGHIJKLMNOPQRSTUVWXYZ\"\n",
    "if(x[0]=='A'):\n",
    "    print(x.lower())\n",
    "    "
   ]
  },
  {
   "cell_type": "code",
   "execution_count": 20,
   "id": "f9ca54ea",
   "metadata": {},
   "outputs": [],
   "source": [
    "#2. create a python program to print lower and upper case alphabets with looping concepts (while loop and for loop)"
   ]
  },
  {
   "cell_type": "code",
   "execution_count": 43,
   "id": "19e5cde8",
   "metadata": {},
   "outputs": [
    {
     "name": "stdout",
     "output_type": "stream",
     "text": [
      "abcdefghijklmnopqrstuvwxyz\n",
      "ABCDEFGHIJKLMNOPQRSTUVWXYZ\n"
     ]
    }
   ],
   "source": [
    "x=\"abcdefghijklmnopqrstuvwxyz\"\n",
    "while (x[0]=='a'):\n",
    "    print(x)\n",
    "    for z in x:\n",
    "        print(x.upper())\n",
    "        break\n",
    "    break\n",
    "        "
   ]
  },
  {
   "cell_type": "code",
   "execution_count": null,
   "id": "56b6848c",
   "metadata": {},
   "outputs": [],
   "source": []
  }
 ],
 "metadata": {
  "kernelspec": {
   "display_name": "Python 3 (ipykernel)",
   "language": "python",
   "name": "python3"
  },
  "language_info": {
   "codemirror_mode": {
    "name": "ipython",
    "version": 3
   },
   "file_extension": ".py",
   "mimetype": "text/x-python",
   "name": "python",
   "nbconvert_exporter": "python",
   "pygments_lexer": "ipython3",
   "version": "3.11.3"
  }
 },
 "nbformat": 4,
 "nbformat_minor": 5
}
