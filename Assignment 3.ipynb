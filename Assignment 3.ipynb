{
 "cells": [
  {
   "cell_type": "code",
   "execution_count": 1,
   "id": "eb387c67",
   "metadata": {},
   "outputs": [],
   "source": [
    "#1.create a python program to print the below pattern using for loop or while loop"
   ]
  },
  {
   "cell_type": "code",
   "execution_count": 2,
   "id": "11caaf5a",
   "metadata": {},
   "outputs": [],
   "source": [
    "#a) 1\n",
    "#   2 2\n",
    "#   3 3 3\n",
    "#   4 4 4 4\n",
    "#   5 5 5 5 5"
   ]
  },
  {
   "cell_type": "code",
   "execution_count": 1,
   "id": "ca4af167",
   "metadata": {},
   "outputs": [
    {
     "name": "stdout",
     "output_type": "stream",
     "text": [
      "1\n",
      "2 2\n",
      "3 3 3\n",
      "4 4 4 4\n",
      "5 5 5 5 5\n"
     ]
    }
   ],
   "source": [
    "u=\"1\"\n",
    "v=\"2 2\"\n",
    "w=\"3 3 3\"\n",
    "x=\"4 4 4 4\"\n",
    "y=\"5 5 5 5 5\"\n",
    "while(u[0]=='1'):\n",
    "    print(u)\n",
    "    while(v[0]=='2'):\n",
    "        print(v)\n",
    "        while(w[0]=='3'):\n",
    "            print(w)\n",
    "            while(x[0]=='4'):\n",
    "                print(x)\n",
    "                while(y[0]=='5'):\n",
    "                    print(y)\n",
    "                    break\n",
    "                break\n",
    "            break\n",
    "        break\n",
    "    break\n",
    "                    \n",
    "                    \n",
    "                    \n",
    "                        \n",
    "            "
   ]
  },
  {
   "cell_type": "code",
   "execution_count": 11,
   "id": "20246632",
   "metadata": {},
   "outputs": [
    {
     "name": "stdout",
     "output_type": "stream",
     "text": [
      "1\n",
      "1 2 \n",
      "1 2 3\n",
      "1 2 3 4\n",
      "1 2 3 4 5\n"
     ]
    }
   ],
   "source": [
    "#b\n",
    "A=\"1\"\n",
    "B=\"1 2 \"\n",
    "C=\"1 2 3\"\n",
    "D=\"1 2 3 4\"\n",
    "E=\"1 2 3 4 5\"\n",
    "while(A[0]=='1'):\n",
    "    print(A)\n",
    "    while(B[0]=='1'):\n",
    "        print(B)\n",
    "        while(C[0]=='1'):\n",
    "            print(C)\n",
    "            while(D[0]=='1'):\n",
    "                print(D)\n",
    "                while(E[0]=='1'):\n",
    "                    print(E)\n",
    "                    break\n",
    "                break\n",
    "            break\n",
    "        break\n",
    "    break\n",
    " "
   ]
  },
  {
   "cell_type": "code",
   "execution_count": 13,
   "id": "49f5247d",
   "metadata": {},
   "outputs": [
    {
     "name": "stdout",
     "output_type": "stream",
     "text": [
      "1 1 1 1 1\n",
      "2 2 2 2\n",
      "3 3 3\n",
      "4 4\n",
      "5\n"
     ]
    }
   ],
   "source": [
    "#c\n",
    "A=\"1 1 1 1 1\"\n",
    "B=\"2 2 2 2\"\n",
    "C=\"3 3 3\"\n",
    "D=\"4 4\"\n",
    "E=\"5\"\n",
    "while(A[0]=='1'):\n",
    "    print(A)\n",
    "    while(B[0]=='2'):\n",
    "        print(B)\n",
    "        while(C[0]=='3'):\n",
    "            print(C)\n",
    "            while(D[0]=='4'):\n",
    "                print(D)\n",
    "                while(E[0]=='5'):\n",
    "                    print(E)\n",
    "                    break\n",
    "                break\n",
    "            break\n",
    "        break\n",
    "    break\n",
    " \n",
    " "
   ]
  },
  {
   "cell_type": "code",
   "execution_count": 14,
   "id": "11f03aed",
   "metadata": {},
   "outputs": [
    {
     "name": "stdout",
     "output_type": "stream",
     "text": [
      "5 5 5 5 5\n",
      "5 5 5 5\n",
      "5 5 5\n",
      "5 5\n",
      "5\n"
     ]
    }
   ],
   "source": [
    "#d\n",
    "A=\"5 5 5 5 5\"\n",
    "B=\"5 5 5 5\"\n",
    "C=\"5 5 5\"\n",
    "D=\"5 5\"\n",
    "E=\"5\"\n",
    "while(A[0]=='5'):\n",
    "    print(A)\n",
    "    while(B[0]=='5'):\n",
    "        print(B)\n",
    "        while(C[0]=='5'):\n",
    "            print(C)\n",
    "            while(D[0]=='5'):\n",
    "                print(D)\n",
    "                while(E[0]=='5'):\n",
    "                    print(E)\n",
    "                    break\n",
    "                break\n",
    "            break\n",
    "        break\n",
    "    break\n",
    " "
   ]
  },
  {
   "cell_type": "code",
   "execution_count": 15,
   "id": "f364bd6b",
   "metadata": {},
   "outputs": [
    {
     "name": "stdout",
     "output_type": "stream",
     "text": [
      "0 1 2 3 4 5\n",
      "0 1 2 3 4\n",
      "0 1 2 3\n",
      "0 1 2\n",
      "0 1\n"
     ]
    }
   ],
   "source": [
    "#e\n",
    "A=\"0 1 2 3 4 5\"\n",
    "B=\"0 1 2 3 4\"\n",
    "C=\"0 1 2 3\"\n",
    "D=\"0 1 2\"\n",
    "E=\"0 1\"\n",
    "while(A[0]=='0'):\n",
    "    print(A)\n",
    "    while(B[0]=='0'):\n",
    "        print(B)\n",
    "        while(C[0]=='0'):\n",
    "            print(C)\n",
    "            while(D[0]=='0'):\n",
    "                print(D)\n",
    "                while(E[0]=='0'):\n",
    "                    print(E)\n",
    "                    break\n",
    "                break\n",
    "            break\n",
    "        break\n",
    "    break\n",
    " "
   ]
  },
  {
   "cell_type": "code",
   "execution_count": 16,
   "id": "b1743d07",
   "metadata": {},
   "outputs": [
    {
     "name": "stdout",
     "output_type": "stream",
     "text": [
      "1\n",
      "3 3\n",
      "5 5 5\n",
      "7 7 7 7\n",
      "9 9 9 9 9\n"
     ]
    }
   ],
   "source": [
    "#f\n",
    "A=\"1\"\n",
    "B=\"3 3\"\n",
    "C=\"5 5 5\"\n",
    "D=\"7 7 7 7\"\n",
    "E=\"9 9 9 9 9\"\n",
    "while(A[0]=='1'):\n",
    "    print(A)\n",
    "    while(B[0]=='3'):\n",
    "        print(B)\n",
    "        while(C[0]=='5'):\n",
    "            print(C)\n",
    "            while(D[0]=='7'):\n",
    "                print(D)\n",
    "                while(E[0]=='9'):\n",
    "                    print(E)\n",
    "                    break\n",
    "                break\n",
    "            break\n",
    "        break\n",
    "    break\n",
    " "
   ]
  },
  {
   "cell_type": "code",
   "execution_count": 17,
   "id": "f66a867f",
   "metadata": {},
   "outputs": [
    {
     "name": "stdout",
     "output_type": "stream",
     "text": [
      "5 5 5 5 5\n",
      "4 4 4 4\n",
      "3 3 3\n",
      "2 2\n",
      "1\n"
     ]
    }
   ],
   "source": [
    "#g\n",
    "A=\"5 5 5 5 5\"\n",
    "B=\"4 4 4 4\"\n",
    "C=\"3 3 3\"\n",
    "D=\"2 2\"\n",
    "E=\"1\"\n",
    "while(A[0]=='5'):\n",
    "    print(A)\n",
    "    while(B[0]=='4'):\n",
    "        print(B)\n",
    "        while(C[0]=='3'):\n",
    "            print(C)\n",
    "            while(D[0]=='2'):\n",
    "                print(D)\n",
    "                while(E[0]=='1'):\n",
    "                    print(E)\n",
    "                    break\n",
    "                break\n",
    "            break\n",
    "        break\n",
    "    break\n",
    " "
   ]
  },
  {
   "cell_type": "code",
   "execution_count": 18,
   "id": "96b940ed",
   "metadata": {},
   "outputs": [
    {
     "name": "stdout",
     "output_type": "stream",
     "text": [
      "1\n",
      "2 1\n",
      "3 2 1\n",
      "4 3 2 1\n",
      "5 4 3 2 1\n"
     ]
    }
   ],
   "source": [
    "#h\n",
    "A=\"1\"\n",
    "B=\"2 1\"\n",
    "C=\"3 2 1\"\n",
    "D=\"4 3 2 1\"\n",
    "E=\"5 4 3 2 1\"\n",
    "while(A[0]=='1'):\n",
    "    print(A)\n",
    "    while(B[0]=='2'):\n",
    "        print(B)\n",
    "        while(C[0]=='3'):\n",
    "            print(C)\n",
    "            while(D[0]=='4'):\n",
    "                print(D)\n",
    "                while(E[0]=='5'):\n",
    "                    print(E)\n",
    "                    break\n",
    "                break\n",
    "            break\n",
    "        break\n",
    "    break\n",
    " "
   ]
  },
  {
   "cell_type": "code",
   "execution_count": 19,
   "id": "b2d47b45",
   "metadata": {},
   "outputs": [
    {
     "name": "stdout",
     "output_type": "stream",
     "text": [
      "5 4 3 2 1\n",
      "4 3 2 1\n",
      "3 2 1\n",
      "2 1\n",
      "1\n"
     ]
    }
   ],
   "source": [
    "#i\n",
    "A=\"5 4 3 2 1\"\n",
    "B=\"4 3 2 1\"\n",
    "C=\"3 2 1\"\n",
    "D=\"2 1\"\n",
    "E=\"1\"\n",
    "while(A[0]=='5'):\n",
    "    print(A)\n",
    "    while(B[0]=='4'):\n",
    "        print(B)\n",
    "        while(C[0]=='3'):\n",
    "            print(C)\n",
    "            while(D[0]=='2'):\n",
    "                print(D)\n",
    "                while(E[0]=='1'):\n",
    "                    print(E)\n",
    "                    break\n",
    "                break\n",
    "            break\n",
    "        break\n",
    "    break\n",
    " "
   ]
  },
  {
   "cell_type": "code",
   "execution_count": 23,
   "id": "5ec2db6b",
   "metadata": {},
   "outputs": [
    {
     "name": "stdout",
     "output_type": "stream",
     "text": [
      "1\n",
      "3 2\n",
      "6 5 4\n",
      "10 9 8 7\n"
     ]
    }
   ],
   "source": [
    "#j\n",
    "A=\"1\"\n",
    "B=\"3 2\"\n",
    "C=\"6 5 4\"\n",
    "D=\"10 9 8 7\"\n",
    "while(A[0]=='1'):\n",
    "    print(A)\n",
    "    while(B[0]=='3'):\n",
    "        print(B)\n",
    "        while(C[0]=='6'):\n",
    "            print(C)\n",
    "            while(D[0]=='1'):\n",
    "                print(D)\n",
    "                break\n",
    "            break\n",
    "        break\n",
    "    break\n",
    " "
   ]
  },
  {
   "cell_type": "code",
   "execution_count": 31,
   "id": "d3575c55",
   "metadata": {},
   "outputs": [
    {
     "name": "stdout",
     "output_type": "stream",
     "text": [
      "        1\n",
      "      1 2\n",
      "    1 2 3\n",
      "  1 2 3 4\n",
      "1 2 3 4 5\n"
     ]
    }
   ],
   "source": [
    "#k\n",
    "A=\"        1\"\n",
    "B=\"      1 2\" \n",
    "C=\"    1 2 3\"      \n",
    "D=\"  1 2 3 4\"\n",
    "E=\"1 2 3 4 5\"\n",
    "while(A[0]==' '):\n",
    "    print(A)\n",
    "    while(B[0]==' '):\n",
    "        print(B)\n",
    "        while(C[0]==' '):\n",
    "            print(C)\n",
    "            while(D[0]==' '):\n",
    "                print(D)\n",
    "                while(E[0]=='1'):\n",
    "                    print(E)\n",
    "                    break\n",
    "                break\n",
    "            break\n",
    "        break\n",
    "    break\n",
    "    \n",
    " \n"
   ]
  },
  {
   "cell_type": "code",
   "execution_count": 1,
   "id": "6d73c190",
   "metadata": {},
   "outputs": [
    {
     "name": "stdout",
     "output_type": "stream",
     "text": [
      "1\n",
      "1 2\n",
      "1 2 1\n",
      "1 3 3 1\n",
      "1 4 6 4 1\n",
      "1 5 10 10 5 1\n",
      "1 6 15 20 15 6 1\n"
     ]
    }
   ],
   "source": [
    "#l\n",
    "A=\"1\"\n",
    "B=\"1 2\"\n",
    "C=\"1 2 1\"\n",
    "D=\"1 3 3 1\"\n",
    "E=\"1 4 6 4 1\"\n",
    "F=\"1 5 10 10 5 1\"\n",
    "G=\"1 6 15 20 15 6 1\"\n",
    "while(A[0]=='1'):\n",
    "    print(A)\n",
    "    while(B[0]=='1'):\n",
    "        print(B)\n",
    "        while(C[0]=='1'):\n",
    "            print(C)\n",
    "            while(D[0]=='1'):\n",
    "                print(D)\n",
    "                while(E[0]=='1'):\n",
    "                    print(E)\n",
    "                    while(F[0]=='1'):\n",
    "                        print(F)\n",
    "                        while(G[0]=='1'):\n",
    "                            print(G)\n",
    "                            break\n",
    "                        break\n",
    "                    break\n",
    "                break\n",
    "            break\n",
    "        break\n",
    "    break"
   ]
  },
  {
   "cell_type": "code",
   "execution_count": 2,
   "id": "c53d6e85",
   "metadata": {},
   "outputs": [
    {
     "name": "stdout",
     "output_type": "stream",
     "text": [
      "1 2 3 4 5\n",
      "2 2 3 4 5\n",
      "3 3 3 4 5\n",
      "4 4 4 4 5\n",
      "5 5 5 5 5\n"
     ]
    }
   ],
   "source": [
    "#m\n",
    "A=\"1 2 3 4 5\"\n",
    "B=\"2 2 3 4 5\"\n",
    "C=\"3 3 3 4 5\"\n",
    "D=\"4 4 4 4 5\"\n",
    "E=\"5 5 5 5 5\"\n",
    "while(A[0]=='1'):\n",
    "    print(A)\n",
    "    while(B[0]=='2'):\n",
    "        print(B)\n",
    "        while(C[0]=='3'):\n",
    "            print(C)\n",
    "            while(D[0]=='4'):\n",
    "                print(D)\n",
    "                while(E[0]=='5'):\n",
    "                    print(E)\n",
    "                    break\n",
    "                break\n",
    "            break\n",
    "        break\n",
    "    break\n",
    " "
   ]
  },
  {
   "cell_type": "code",
   "execution_count": 3,
   "id": "097674a3",
   "metadata": {},
   "outputs": [
    {
     "name": "stdout",
     "output_type": "stream",
     "text": [
      "1\n",
      "2 4\n",
      "3 6 9\n",
      "4 8 12 16\n",
      "5 10 15 20 25\n",
      "6 12 18 24 30 36\n",
      "7 14 21 28 35 42 49\n",
      "8 16 24 32 40 48 56 64\n"
     ]
    }
   ],
   "source": [
    "#n\n",
    "A=\"1\"\n",
    "B=\"2 4\"\n",
    "C=\"3 6 9\"\n",
    "D=\"4 8 12 16\"\n",
    "E=\"5 10 15 20 25\"\n",
    "F=\"6 12 18 24 30 36\"\n",
    "G=\"7 14 21 28 35 42 49\"\n",
    "H=\"8 16 24 32 40 48 56 64\"\n",
    "while(A[0]=='1'):\n",
    "    print(A)\n",
    "    while(B[0]=='2'):\n",
    "        print(B)\n",
    "        while(C[0]=='3'):\n",
    "            print(C)\n",
    "            while(D[0]=='4'):\n",
    "                print(D)\n",
    "                while(E[0]=='5'):\n",
    "                    print(E)\n",
    "                    while(F[0]=='6'):\n",
    "                        print(F)\n",
    "                        while(G[0]=='7'):\n",
    "                            print(G)\n",
    "                            while(H[0]=='8'):\n",
    "                                print(H)\n",
    "                                break\n",
    "                            break\n",
    "                        break\n",
    "                    break\n",
    "                break\n",
    "            break\n",
    "        break\n",
    "    break"
   ]
  },
  {
   "cell_type": "code",
   "execution_count": 6,
   "id": "acf32ca9",
   "metadata": {},
   "outputs": [
    {
     "name": "stdout",
     "output_type": "stream",
     "text": [
      "*\n",
      "* *\n",
      "* * *\n",
      "* * * *\n",
      "* * * * *\n"
     ]
    }
   ],
   "source": [
    "#o\n",
    "A=\"*\"\n",
    "B=\"* *\"\n",
    "C=\"* * *\"\n",
    "D=\"* * * *\"\n",
    "E=\"* * * * *\"\n",
    "while(A[0]=='*'):\n",
    "    print(A)\n",
    "    while(B[0]=='*'):\n",
    "        print(B)\n",
    "        while(C[0]=='*'):\n",
    "            print(C)\n",
    "            while(D[0]=='*'):\n",
    "                print(D)\n",
    "                while(E[0]=='*'):\n",
    "                    print(E)\n",
    "                    break\n",
    "                break\n",
    "            break\n",
    "        break\n",
    "    break\n",
    " \n"
   ]
  },
  {
   "cell_type": "code",
   "execution_count": 14,
   "id": "4453fc42",
   "metadata": {},
   "outputs": [
    {
     "name": "stdout",
     "output_type": "stream",
     "text": [
      "        *\n",
      "      * *\n",
      "    * * *\n",
      "  * * * *\n",
      "* * * * *\n"
     ]
    }
   ],
   "source": [
    "#p\n",
    "A=\"        *\"\n",
    "B=\"      * *\"\n",
    "C=\"    * * *\"\n",
    "D=\"  * * * *\"  \n",
    "E=\"* * * * *\"\n",
    "while(A[0]==' '):\n",
    "    print(A)\n",
    "    while(B[0]==' '):\n",
    "        print(B)\n",
    "        while(C[0]==' '):\n",
    "            print(C)\n",
    "            while(D[0]==' '):\n",
    "                print(D)\n",
    "                while(E[0]=='*'):\n",
    "                    print(E)\n",
    "                    break\n",
    "                break\n",
    "            break\n",
    "        break\n",
    "    break"
   ]
  },
  {
   "cell_type": "code",
   "execution_count": 15,
   "id": "e3ff22c7",
   "metadata": {},
   "outputs": [
    {
     "name": "stdout",
     "output_type": "stream",
     "text": [
      "* * * * *\n",
      "* * * *\n",
      "* * *\n",
      "* *\n",
      "*\n"
     ]
    }
   ],
   "source": [
    "#q\n",
    "A=\"* * * * *\"\n",
    "B=\"* * * *\"\n",
    "C=\"* * *\"\n",
    "D=\"* *\"\n",
    "E=\"*\"\n",
    "while(A[0]=='*'):\n",
    "    print(A)\n",
    "    while(B[0]=='*'):\n",
    "        print(B)\n",
    "        while(C[0]=='*'):\n",
    "            print(C)\n",
    "            while(D[0]=='*'):\n",
    "                print(D)\n",
    "                while(E[0]=='*'):\n",
    "                    print(E)\n",
    "                    break\n",
    "                break\n",
    "            break\n",
    "        break\n",
    "    break"
   ]
  },
  {
   "cell_type": "code",
   "execution_count": 21,
   "id": "ecb1d278",
   "metadata": {},
   "outputs": [
    {
     "name": "stdout",
     "output_type": "stream",
     "text": [
      "* * * * * *\n",
      " * * * * *\n",
      "  * * * *\n",
      "   * * *\n",
      "     * *\n",
      "      *\n"
     ]
    }
   ],
   "source": [
    "#r\n",
    "A=\"* * * * * *\"\n",
    "B=\" * * * * *\"\n",
    "C=\"  * * * *\"\n",
    "D=\"   * * *\"\n",
    "E=\"     * *\"\n",
    "F=\"      *\"\n",
    "while(A[0]=='*'):\n",
    "    print(A)\n",
    "    while(B[0]==' '):\n",
    "        print(B)\n",
    "        while(C[0]==' '):\n",
    "            print(C)\n",
    "            while(D[0]==' '):\n",
    "                print(D)\n",
    "                while(E[0]==' '):\n",
    "                    print(E)\n",
    "                    while(F[0]==' '):\n",
    "                        print(F)\n",
    "                        break\n",
    "                    break\n",
    "                break\n",
    "            break\n",
    "        break\n",
    "    break"
   ]
  },
  {
   "cell_type": "code",
   "execution_count": 22,
   "id": "c3097e69",
   "metadata": {},
   "outputs": [
    {
     "name": "stdout",
     "output_type": "stream",
     "text": [
      "*****\n",
      " **** \n",
      "  *** \n",
      "   **\n",
      "    * \n"
     ]
    }
   ],
   "source": [
    "#s\n",
    "A=\"*****\"\n",
    "B=\" **** \"\n",
    "C=\"  *** \"\n",
    "D=\"   **\"\n",
    "E=\"    * \"\n",
    "while(A[0]=='*'):\n",
    "    print(A)\n",
    "    while(B[0]==' '):\n",
    "        print(B)\n",
    "        while(C[0]==' '):\n",
    "            print(C)\n",
    "            while(D[0]==' '):\n",
    "                print(D)\n",
    "                while(E[0]==' '):\n",
    "                    print(E)\n",
    "                    break\n",
    "                break\n",
    "            break\n",
    "        break\n",
    "    break"
   ]
  },
  {
   "cell_type": "code",
   "execution_count": 23,
   "id": "ee352ffa",
   "metadata": {},
   "outputs": [
    {
     "name": "stdout",
     "output_type": "stream",
     "text": [
      "       * \n",
      "      * *\n",
      "    * * *\n",
      "   * * * *\n",
      "  * * * * * \n",
      " * * * * * * \n",
      "* * * * * * *\n"
     ]
    }
   ],
   "source": [
    "#t\n",
    "A=\"       * \"\n",
    "B=\"      * *\"\n",
    "C=\"    * * *\"\n",
    "D=\"   * * * *\"\n",
    "E=\"  * * * * * \"\n",
    "F=\" * * * * * * \"\n",
    "G=\"* * * * * * *\"\n",
    "while(A[0]==' '):\n",
    "    print(A)\n",
    "    while(B[0]==' '):\n",
    "        print(B)\n",
    "        while(C[0]==' '):\n",
    "            print(C)\n",
    "            while(D[0]==' '):\n",
    "                print(D)\n",
    "                while(E[0]==' '):\n",
    "                    print(E)\n",
    "                    while(F[0]==' '):\n",
    "                        print(F)\n",
    "                        while(G[0]=='*'):\n",
    "                            print(G)\n",
    "                            break\n",
    "                        break\n",
    "                    break\n",
    "                break\n",
    "            break\n",
    "        break\n",
    "    break"
   ]
  },
  {
   "cell_type": "code",
   "execution_count": 29,
   "id": "e4362fdb",
   "metadata": {},
   "outputs": [
    {
     "name": "stdout",
     "output_type": "stream",
     "text": [
      "     * \n",
      "    * *\n",
      "   * * * \n",
      "  * * * *\n",
      " * * * * *\n",
      "* * * * * *\n",
      " * * * * *\n",
      "  * * * *\n",
      "   * * *\n",
      "    * * \n",
      "     * \n"
     ]
    }
   ],
   "source": [
    "#u\n",
    "A=\"     * \"\n",
    "B=\"    * *\"\n",
    "C=\"   * * * \"\n",
    "D=\"  * * * *\"\n",
    "E=\" * * * * *\"\n",
    "F=\"* * * * * *\"\n",
    "G=\" * * * * *\"\n",
    "H=\"  * * * *\"\n",
    "I=\"   * * *\"\n",
    "J=\"    * * \"\n",
    "K=\"     * \"\n",
    "while(A[0]==' '):\n",
    "    print(A)\n",
    "    while(B[0]==' '):\n",
    "        print(B)\n",
    "        while(C[0]==' '):\n",
    "            print(C)\n",
    "            while(D[0]==' '):\n",
    "                print(D)\n",
    "                while(E[0]==' '):\n",
    "                    print(E)\n",
    "                    while(F[0]=='*'):\n",
    "                        print(F)\n",
    "                        while(G[0]==' '):\n",
    "                            print(G)\n",
    "                            while(H[0]==' '):\n",
    "                                print(H)\n",
    "                                while(I[0]==' '):\n",
    "                                    print(I)\n",
    "                                    while(J[0]==' '):\n",
    "                                        print(J)\n",
    "                                        while(K[0]==' '):\n",
    "                                            print(K)\n",
    "                                            break\n",
    "                                        break\n",
    "                                    break\n",
    "                                break\n",
    "                            break\n",
    "                        break\n",
    "                    break\n",
    "                break\n",
    "            break\n",
    "        break\n",
    "    break\n",
    "\n",
    "                        \n",
    "                                "
   ]
  },
  {
   "cell_type": "code",
   "execution_count": 2,
   "id": "d7fc52e5",
   "metadata": {},
   "outputs": [
    {
     "name": "stdout",
     "output_type": "stream",
     "text": [
      "    *\n",
      "   * *\n",
      "  *   *\n",
      " *     * \n",
      "*       *\n",
      " *     * \n",
      "  *   *\n",
      "   * *\n",
      "    *\n"
     ]
    }
   ],
   "source": [
    "#v\n",
    "A=\"    *\"\n",
    "B=\"   * *\"\n",
    "C=\"  *   *\"\n",
    "D=\" *     * \"\n",
    "E=\"*       *\"\n",
    "F=\" *     * \"\n",
    "G=\"  *   *\"\n",
    "H=\"   * *\"\n",
    "I=\"    *\"\n",
    "\n",
    "while(A[0]==' '):\n",
    "    print(A)\n",
    "    while(B[0]==' '):\n",
    "        print(B)\n",
    "        while(C[0]==' '):\n",
    "            print(C)\n",
    "            while(D[0]==' '):\n",
    "                print(D)\n",
    "                while(E[0]=='*'):\n",
    "                    print(E)\n",
    "                    while(F[0]==' '):\n",
    "                        print(F)\n",
    "                        while(G[0]==' '):\n",
    "                            print(G)\n",
    "                            while(H[0]==' '):\n",
    "                                print(H)\n",
    "                                while(I[0]==' '):\n",
    "                                    print(I)\n",
    "                                    break\n",
    "                                break\n",
    "                            break\n",
    "                        break\n",
    "                    break\n",
    "                break\n",
    "            break\n",
    "        break\n",
    "    break\n"
   ]
  },
  {
   "cell_type": "code",
   "execution_count": null,
   "id": "67ac69b9",
   "metadata": {},
   "outputs": [],
   "source": []
  }
 ],
 "metadata": {
  "kernelspec": {
   "display_name": "Python 3 (ipykernel)",
   "language": "python",
   "name": "python3"
  },
  "language_info": {
   "codemirror_mode": {
    "name": "ipython",
    "version": 3
   },
   "file_extension": ".py",
   "mimetype": "text/x-python",
   "name": "python",
   "nbconvert_exporter": "python",
   "pygments_lexer": "ipython3",
   "version": "3.11.3"
  }
 },
 "nbformat": 4,
 "nbformat_minor": 5
}
