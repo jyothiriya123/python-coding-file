{
 "cells": [
  {
   "cell_type": "code",
   "execution_count": 1,
   "id": "2570a78b",
   "metadata": {},
   "outputs": [],
   "source": [
    "#1) Write a Python program to loop through all the elements in a list"
   ]
  },
  {
   "cell_type": "code",
   "execution_count": 5,
   "id": "faadcd8a",
   "metadata": {},
   "outputs": [
    {
     "name": "stdout",
     "output_type": "stream",
     "text": [
      "1\n",
      "2\n",
      "3\n",
      "4\n",
      "5\n",
      "6\n",
      "7\n",
      "8\n"
     ]
    }
   ],
   "source": [
    "for x in range(9):\n",
    "    if x!=0:\n",
    "        print(x)"
   ]
  },
  {
   "cell_type": "code",
   "execution_count": null,
   "id": "4ff1daee",
   "metadata": {},
   "outputs": [],
   "source": [
    "#2) Write a Python program where you will ask the users to insert elements in a list"
   ]
  },
  {
   "cell_type": "code",
   "execution_count": 7,
   "id": "387427ee",
   "metadata": {},
   "outputs": [
    {
     "name": "stdout",
     "output_type": "stream",
     "text": [
      "enter number4\n",
      "5\n",
      "6\n",
      "7\n",
      "8\n",
      "[5, 6, 7, 8]\n"
     ]
    }
   ],
   "source": [
    "x=[]\n",
    "num=int(input(\"enter number\"))\n",
    "for i in range(0,num):\n",
    "    num=int(input())\n",
    "    x.append(num)\n",
    "print(x)"
   ]
  },
  {
   "cell_type": "code",
   "execution_count": 8,
   "id": "0376a1b0",
   "metadata": {},
   "outputs": [],
   "source": [
    "#3) Write a Python program to remove all the odd index value from a list and only even index elements should remain"
   ]
  },
  {
   "cell_type": "code",
   "execution_count": 9,
   "id": "2cba2561",
   "metadata": {},
   "outputs": [
    {
     "name": "stdout",
     "output_type": "stream",
     "text": [
      "enter the range: 7\n",
      "enter the numbers: 2\n",
      "enter the numbers: 3\n",
      "enter the numbers: 4\n",
      "enter the numbers: 5\n",
      "enter the numbers: 6\n",
      "enter the numbers: 7\n",
      "enter the numbers: 8\n",
      "[2, 3, 4, 5, 6, 7, 8]\n",
      "2\n",
      "4\n",
      "6\n",
      "8\n"
     ]
    }
   ],
   "source": [
    "x=[]\n",
    "num1=int(input(\"enter the range: \"))\n",
    "for i in range(num1):\n",
    "    num2=input(\"enter the numbers: \")\n",
    "    if(num2.isdigit()):\n",
    "        num2=int(num2)\n",
    "        x.append(num2)\n",
    "    else:\n",
    "        x.append(num2)\n",
    "print(x)\n",
    "for i in x:\n",
    "    if(x.index(i)%2==0):\n",
    "        print(i)\n"
   ]
  },
  {
   "cell_type": "code",
   "execution_count": 10,
   "id": "843ef8be",
   "metadata": {},
   "outputs": [],
   "source": [
    "#4) Write a Python program to sum and multiply all the items in a list"
   ]
  },
  {
   "cell_type": "code",
   "execution_count": 11,
   "id": "5117e89d",
   "metadata": {},
   "outputs": [
    {
     "name": "stdout",
     "output_type": "stream",
     "text": [
      "enter the range: 3\n",
      "enter the numbers: 4\n",
      "enter the numbers: 5\n",
      "enter the numbers: 6\n",
      "[4, 5, 6]\n",
      "15\n",
      "120\n"
     ]
    }
   ],
   "source": [
    "y=[]\n",
    "n=int(input(\"enter the range: \"))\n",
    "for i in range(n):\n",
    "    num3=input(\"enter the numbers: \")\n",
    "    if(num3.isdigit()):\n",
    "        num3=int(num3)\n",
    "        y.append(num3)\n",
    "    else:\n",
    "        y.append(num3)\n",
    "print(y)\n",
    "s=0\n",
    "product=1\n",
    "for i in y:\n",
    "    s+=i\n",
    "    product*=i\n",
    "print(s)\n",
    "print(product)"
   ]
  },
  {
   "cell_type": "code",
   "execution_count": 12,
   "id": "22406a68",
   "metadata": {},
   "outputs": [],
   "source": [
    "#5) Write a Python program to get the maximum and minimum numbers from a list"
   ]
  },
  {
   "cell_type": "code",
   "execution_count": 13,
   "id": "725f826f",
   "metadata": {},
   "outputs": [
    {
     "name": "stdout",
     "output_type": "stream",
     "text": [
      "enter the range: 6\n",
      "enter the numbers: 5\n",
      "enter the numbers: 4\n",
      "enter the numbers: 3\n",
      "enter the numbers: 2\n",
      "enter the numbers: 1\n",
      "enter the numbers: 9\n",
      "[5, 4, 3, 2, 1, 9]\n",
      "9\n",
      "1\n"
     ]
    }
   ],
   "source": [
    "y=[]\n",
    "n=int(input(\"enter the range: \"))\n",
    "for i in range(n):\n",
    "    num3=input(\"enter the numbers: \")\n",
    "    if(num3.isdigit()):\n",
    "        num3=int(num3)\n",
    "        y.append(num3)\n",
    "    else:\n",
    "        y.append(num3)\n",
    "print(y)\n",
    "print(max(y))\n",
    "print(min(y))\n"
   ]
  },
  {
   "cell_type": "code",
   "execution_count": 14,
   "id": "6b2c078e",
   "metadata": {},
   "outputs": [],
   "source": [
    "#6) Write a Python program to print a specified list after removing the 0th, 4th and 5th elements."
   ]
  },
  {
   "cell_type": "code",
   "execution_count": 15,
   "id": "b5f49e3d",
   "metadata": {},
   "outputs": [
    {
     "name": "stdout",
     "output_type": "stream",
     "text": [
      "['ball', 'door', 'lamp']\n"
     ]
    }
   ],
   "source": [
    "x=['mat','ball', 'door', 'lamp', 'light', 'candle']\n",
    "y=[0,4,5]\n",
    "z=[item for index,item in enumerate(x)if index not in y]\n",
    "print(z)"
   ]
  },
  {
   "cell_type": "code",
   "execution_count": null,
   "id": "b4c6831f",
   "metadata": {},
   "outputs": [],
   "source": [
    "#7) Write a Python program to convert a list of characters into a string"
   ]
  },
  {
   "cell_type": "code",
   "execution_count": 16,
   "id": "3f9b2da4",
   "metadata": {},
   "outputs": [
    {
     "name": "stdout",
     "output_type": "stream",
     "text": [
      "jyoriya\n"
     ]
    }
   ],
   "source": [
    "x=[\"j\",\"y\",\"o\",\"r\",\"i\",\"y\",\"a\"]\n",
    "y=''.join(x)\n",
    "print(y)\n"
   ]
  },
  {
   "cell_type": "code",
   "execution_count": 17,
   "id": "658ee751",
   "metadata": {},
   "outputs": [],
   "source": [
    "#8) Write a Python program to compute average of given lists"
   ]
  },
  {
   "cell_type": "code",
   "execution_count": 18,
   "id": "d0128341",
   "metadata": {},
   "outputs": [
    {
     "name": "stdout",
     "output_type": "stream",
     "text": [
      "enter the range: 7\n",
      "enter the numbers: 5\n",
      "enter the numbers: 4\n",
      "enter the numbers: 3\n",
      "enter the numbers: 2\n",
      "enter the numbers: 1\n",
      "enter the numbers: 8\n",
      "enter the numbers: 4\n",
      "[5, 4, 3, 2, 1, 8, 4]\n",
      "3.857142857142857\n"
     ]
    }
   ],
   "source": [
    "y=[]\n",
    "n=int(input(\"enter the range: \"))\n",
    "for i in range(n):\n",
    "    num3=input(\"enter the numbers: \")\n",
    "    if(num3.isdigit()):\n",
    "        num3=int(num3)\n",
    "        y.append(num3)\n",
    "    else:\n",
    "        y.append(num3)\n",
    "print(y)\n",
    "s=0\n",
    "avg=0\n",
    "length=len(y)\n",
    "for i in y:\n",
    "    s+=i\n",
    "avg=s/length\n",
    "print(avg)\n"
   ]
  },
  {
   "cell_type": "code",
   "execution_count": 19,
   "id": "cd56744d",
   "metadata": {},
   "outputs": [],
   "source": [
    "#9) Write a Python program to count integer in a given mixed list."
   ]
  },
  {
   "cell_type": "code",
   "execution_count": 20,
   "id": "7b1156f6",
   "metadata": {},
   "outputs": [
    {
     "name": "stdout",
     "output_type": "stream",
     "text": [
      "enter the range: 4\n",
      "enter the numbers: 3\n",
      "enter the numbers: 2\n",
      "enter the numbers: 1\n",
      "enter the numbers: 0\n",
      "[3, 2, 1, 0]\n",
      "4\n"
     ]
    }
   ],
   "source": [
    "y=[]\n",
    "n=int(input(\"enter the range: \"))\n",
    "for i in range(n):\n",
    "    num3=input(\"enter the numbers: \")\n",
    "    if(num3.isdigit()):\n",
    "        num3=int(num3)\n",
    "        y.append(num3)\n",
    "    else:\n",
    "        y.append(num3)\n",
    "print(y)\n",
    "count=0\n",
    "for i in str(y):\n",
    "    if (i.isdigit()):\n",
    "        count+=1\n",
    "print(count)"
   ]
  },
  {
   "cell_type": "code",
   "execution_count": 21,
   "id": "e39dd1be",
   "metadata": {},
   "outputs": [],
   "source": [
    "#10) Write a Python program to reverse the list"
   ]
  },
  {
   "cell_type": "code",
   "execution_count": 23,
   "id": "d6aa7bd6",
   "metadata": {},
   "outputs": [
    {
     "name": "stdout",
     "output_type": "stream",
     "text": [
      "[1, 2, 3, 4, 5]\n"
     ]
    }
   ],
   "source": [
    "y=[5,4,3,2,1]\n",
    "reversed_list=y[::-1]\n",
    "print(reversed_list)"
   ]
  },
  {
   "cell_type": "code",
   "execution_count": 24,
   "id": "6ff8f6f9",
   "metadata": {},
   "outputs": [
    {
     "name": "stdout",
     "output_type": "stream",
     "text": [
      "enter the range: 4\n",
      "enter the numbers: 3\n",
      "enter the numbers: 2\n",
      "enter the numbers: 6\n",
      "enter the numbers: 7\n",
      "[3, 2, 6, 7]\n",
      "[7, 6, 2, 3]\n"
     ]
    }
   ],
   "source": [
    "y=[]\n",
    "n=int(input(\"enter the range: \"))\n",
    "for i in range(n):\n",
    "    num3=input(\"enter the numbers: \")\n",
    "    if(num3.isdigit()):\n",
    "        num3=int(num3)\n",
    "        y.append(num3)\n",
    "    else:\n",
    "        y.append(num3)\n",
    "print(y)\n",
    "y.reverse()\n",
    "print(y)"
   ]
  },
  {
   "cell_type": "code",
   "execution_count": 25,
   "id": "8dd46c4b",
   "metadata": {},
   "outputs": [],
   "source": [
    "#11) Write a Python program convert a given string to a tuple"
   ]
  },
  {
   "cell_type": "code",
   "execution_count": 26,
   "id": "694ecfbe",
   "metadata": {},
   "outputs": [
    {
     "name": "stdout",
     "output_type": "stream",
     "text": [
      "enter a string: dfgh@e$erty\n",
      "('d', 'f', 'g', 'h', '@', 'e', '$', 'e', 'r', 't', 'y')\n"
     ]
    }
   ],
   "source": [
    "x=input(\"enter a string: \")\n",
    "y=tuple(x)\n",
    "print(y)\n"
   ]
  },
  {
   "cell_type": "code",
   "execution_count": 27,
   "id": "761f3060",
   "metadata": {},
   "outputs": [
    {
     "data": {
      "text/plain": [
       "tuple"
      ]
     },
     "execution_count": 27,
     "metadata": {},
     "output_type": "execute_result"
    }
   ],
   "source": [
    "type(y)"
   ]
  },
  {
   "cell_type": "code",
   "execution_count": null,
   "id": "377532b7",
   "metadata": {},
   "outputs": [],
   "source": []
  }
 ],
 "metadata": {
  "kernelspec": {
   "display_name": "Python 3 (ipykernel)",
   "language": "python",
   "name": "python3"
  },
  "language_info": {
   "codemirror_mode": {
    "name": "ipython",
    "version": 3
   },
   "file_extension": ".py",
   "mimetype": "text/x-python",
   "name": "python",
   "nbconvert_exporter": "python",
   "pygments_lexer": "ipython3",
   "version": "3.11.3"
  }
 },
 "nbformat": 4,
 "nbformat_minor": 5
}
