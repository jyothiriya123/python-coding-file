{
 "cells": [
  {
   "cell_type": "code",
   "execution_count": 1,
   "id": "8ac41c20",
   "metadata": {},
   "outputs": [],
   "source": [
    "#1. Given a list of numbers, write a python program that returns a new list which Has all  duplicate elements removed. And is sorted in an increasing order."
   ]
  },
  {
   "cell_type": "code",
   "execution_count": 2,
   "id": "e46d30e4",
   "metadata": {},
   "outputs": [
    {
     "name": "stdout",
     "output_type": "stream",
     "text": [
      "enter the range6\n",
      "enter ur element3\n",
      "enter ur element4\n",
      "enter ur element7\n",
      "enter ur element9\n",
      "enter ur element2\n",
      "enter ur element1\n",
      "[3, 4, 7, 9, 2, 1]\n",
      "[1, 2, 3, 4, 7, 9]\n"
     ]
    }
   ],
   "source": [
    "l=[]\n",
    "n=int(input(\"enter the range\"))\n",
    "for i in range(n):\n",
    "    num=input(\"enter ur element\")\n",
    "    if(num.isdigit()):\n",
    "        num=int(num)\n",
    "        l.append(num)\n",
    "    else:\n",
    "        l.append(num)\n",
    "print(l)\n",
    "new_list=[]\n",
    "for i in l:\n",
    "    if i not in new_list:\n",
    "        new_list.append(i)\n",
    "print(sorted(new_list))\n"
   ]
  },
  {
   "cell_type": "code",
   "execution_count": 3,
   "id": "46fcaece",
   "metadata": {},
   "outputs": [],
   "source": [
    "#2. Write a Python program where you will iterate over both keys and values in dictionarie"
   ]
  },
  {
   "cell_type": "code",
   "execution_count": 4,
   "id": "4901e505",
   "metadata": {},
   "outputs": [
    {
     "name": "stdout",
     "output_type": "stream",
     "text": [
      "(1, 'a')\n",
      "(2, 'b')\n",
      "(3, 'c')\n"
     ]
    }
   ],
   "source": [
    "x={1:\"a\",2:\"b\",3:\"c\"}\n",
    "for i in x.items():\n",
    "    print(i)"
   ]
  },
  {
   "cell_type": "code",
   "execution_count": 11,
   "id": "fa5e215b",
   "metadata": {},
   "outputs": [],
   "source": [
    "#3. Write a Python program that takes a dictionary of student names and returns a list of student names in alphabetical order"
   ]
  },
  {
   "cell_type": "code",
   "execution_count": 2,
   "id": "81567574",
   "metadata": {},
   "outputs": [
    {
     "name": "stdout",
     "output_type": "stream",
     "text": [
      "enter the range: 4\n",
      "enter name: student 1\n",
      "enter values: jyo\n",
      "enter name: student 2\n",
      "enter values: sid\n",
      "enter name: student 3\n",
      "enter values: sony\n",
      "enter name: student 4\n",
      "enter values: ram\n",
      "{'student 1': 'jyo', 'student 2': 'sid', 'student 3': 'sony', 'student 4': 'ram'}\n",
      "['jyo', 'ram', 'sid', 'sony']\n"
     ]
    }
   ],
   "source": [
    "n=int(input(\"enter the range: \"))\n",
    "d={}\n",
    "for i in range(n):\n",
    "    key=input(\"enter name: \")\n",
    "    values=input(\"enter values: \")\n",
    "    d[key]=values\n",
    "print(d)\n",
    "new={}\n",
    "for i in d.values():\n",
    "    new=sorted(d.values())\n",
    "print(new)"
   ]
  },
  {
   "cell_type": "code",
   "execution_count": 3,
   "id": "01af0657",
   "metadata": {},
   "outputs": [],
   "source": [
    "#4. Write a Python which returns a new list of Booleans, from a given number. Iterating through the number one digit at a time, append True if the digit is 1 and False if it is 0"
   ]
  },
  {
   "cell_type": "code",
   "execution_count": 1,
   "id": "5d4bbb54",
   "metadata": {},
   "outputs": [
    {
     "name": "stdout",
     "output_type": "stream",
     "text": [
      "enter the range4\n",
      "enter ur degit1\n",
      "enter ur degit0\n",
      "enter ur degit1\n",
      "enter ur degit0\n",
      "[1, 0, 1, 0]\n",
      "[True, False, True, False]\n"
     ]
    }
   ],
   "source": [
    "x=[]\n",
    "n3=int(input(\"enter the range\"))\n",
    "for i in range(n3):\n",
    "    num=input(\"enter ur degit\")\n",
    "    if(num.isdigit()):\n",
    "        num=int(num)\n",
    "        x.append(num)\n",
    "    else:\n",
    "        x.append(num)\n",
    "print(x)\n",
    "y=list(map(lambda x:x==1,x))\n",
    "print(y)"
   ]
  },
  {
   "cell_type": "code",
   "execution_count": null,
   "id": "3e47beb6",
   "metadata": {},
   "outputs": [],
   "source": [
    "#5. Write a Python program where you will return a dictionary where the keys will be the character and the values will be the occurrence of the character in the string, and it should for any string inputs (dynamic)"
   ]
  },
  {
   "cell_type": "code",
   "execution_count": 2,
   "id": "8fb8a9e0",
   "metadata": {},
   "outputs": [
    {
     "name": "stdout",
     "output_type": "stream",
     "text": [
      "enter the string: jyothikareddy\n",
      "{'j': 1, 'y': 2, 'o': 1, 't': 1, 'h': 1, 'i': 1, 'k': 1, 'a': 1, 'r': 1, 'e': 1, 'd': 2}\n"
     ]
    }
   ],
   "source": [
    "def string(p):\n",
    "    c={}\n",
    "    for i in p:\n",
    "        if i in c:\n",
    "            c[i]+=1\n",
    "        else:\n",
    "            c[i]=1\n",
    "    return c\n",
    "m=input(\"enter the string: \")\n",
    "l=string(m)\n",
    "print(l)"
   ]
  },
  {
   "cell_type": "code",
   "execution_count": 3,
   "id": "d3020779",
   "metadata": {},
   "outputs": [],
   "source": [
    "#6. Given a dictionary containing the names and ages of a group of people, return the name of the oldest person"
   ]
  },
  {
   "cell_type": "code",
   "execution_count": 4,
   "id": "db6e6a85",
   "metadata": {},
   "outputs": [
    {
     "name": "stdout",
     "output_type": "stream",
     "text": [
      "enter range: 3\n",
      "enter keys: yamini\n",
      "enter values: 65\n",
      "enter keys: vijju\n",
      "enter values: 43\n",
      "enter keys: swathi\n",
      "enter values: 32\n",
      "{'yamini': '65', 'vijju': '43', 'swathi': '32'}\n",
      "yamini\n"
     ]
    }
   ],
   "source": [
    "n=int(input(\"enter range: \"))\n",
    "x={}\n",
    "for i in range(n):\n",
    "    keys=(input(\"enter keys: \"))\n",
    "    values=input(\"enter values: \")\n",
    "    x[keys]=values\n",
    "print(x)\n",
    "oldest=max(x.values())\n",
    "for name,age in x.items():\n",
    "    if age==oldest:\n",
    "        print(name)"
   ]
  },
  {
   "cell_type": "code",
   "execution_count": 5,
   "id": "2d123344",
   "metadata": {},
   "outputs": [],
   "source": [
    "#7. Write a Python program to create a Rock, Paper, Scissor game, use two inputs for two  players: Conditions: -Rock beats Scissors, Scissors beats Paper, Paper beats Rock"
   ]
  },
  {
   "cell_type": "code",
   "execution_count": 6,
   "id": "ef4c26b8",
   "metadata": {},
   "outputs": [
    {
     "name": "stdout",
     "output_type": "stream",
     "text": [
      "enter Rock,Papper and Scissor: paper\n",
      "enter Rock,Papper and Scissor: rock\n",
      "both are enter same value try agin\n"
     ]
    }
   ],
   "source": [
    "x=input(\"enter Rock,Papper and Scissor: \")\n",
    "y=input(\"enter Rock,Papper and Scissor: \")\n",
    "\n",
    "\n",
    "if ((x==\"Rock\")and(y==\"Papper\")or(x==\"scissor\")and(y==\"Rock\")or(x==\"Papper\")and(y==\"Scissor\")):\n",
    "    print (\"person1 winer\")\n",
    "elif((x==\"Papper\")and(y==\"Rock\")or(x==\"Rock\")and(y==\"Scissor\")or(x==\"Rock\")and(y==\"Paper\")):\n",
    "    print(\"person2 winer\")\n",
    "else:\n",
    "    print(\"both are enter same value try agin\")\n"
   ]
  },
  {
   "cell_type": "code",
   "execution_count": 7,
   "id": "cee22552",
   "metadata": {},
   "outputs": [],
   "source": [
    "#8.Create a program that returns a list of items that you can afford in the store with the  money you have in your wallet. Create a dictionary with items as key and price as values"
   ]
  },
  {
   "cell_type": "code",
   "execution_count": 8,
   "id": "7fd7ddf0",
   "metadata": {},
   "outputs": [
    {
     "name": "stdout",
     "output_type": "stream",
     "text": [
      "enter range3\n",
      "enter productwatch\n",
      "enter prise100\n",
      "enter productlipstick\n",
      "enter prise60\n",
      "enter productchain\n",
      "enter prise80\n",
      "{'watch': 100, 'lipstick': 60, 'chain': 80}\n",
      "enter how much money need 20\n",
      "{'watch': 100, 'lipstick': 60, 'chain': 80}\n"
     ]
    }
   ],
   "source": [
    "n=int(input(\"enter range\"))\n",
    "x={}\n",
    "for i in range(n):\n",
    "    key=input(\"enter product\")\n",
    "    value=int(input(\"enter prise\"))\n",
    "    x[key]=value\n",
    "print(x)\n",
    "m=[]\n",
    "money=int(input(\"enter how much money need \"))\n",
    "for name,price in x.items():\n",
    "    if(price<=money):\n",
    "        m.append(name)\n",
    "print(x)"
   ]
  },
  {
   "cell_type": "code",
   "execution_count": 9,
   "id": "4cce7296",
   "metadata": {},
   "outputs": [],
   "source": [
    "#9.Write a Python program to create a union of sets"
   ]
  },
  {
   "cell_type": "code",
   "execution_count": 10,
   "id": "0b2776df",
   "metadata": {},
   "outputs": [
    {
     "name": "stdout",
     "output_type": "stream",
     "text": [
      "{0, 1, 2, 3, 4, 5, 6, 8, 9}\n"
     ]
    }
   ],
   "source": [
    "s1={1,2,3,4,5,6}\n",
    "s2={2,3,4,8,9,0}\n",
    "s3=s1.union(s2)\n",
    "print(s3)"
   ]
  },
  {
   "cell_type": "code",
   "execution_count": 12,
   "id": "6879f764",
   "metadata": {},
   "outputs": [],
   "source": [
    "#10. Write a Python program to check if a given value is present in a set or not"
   ]
  },
  {
   "cell_type": "code",
   "execution_count": 13,
   "id": "28db74b1",
   "metadata": {},
   "outputs": [
    {
     "name": "stdout",
     "output_type": "stream",
     "text": [
      "enter the range: 2\n",
      "enter element into the set : 1\n",
      "enter element into the set : 2\n",
      "{'1', '2'}\n",
      "enter element to check: 0\n"
     ]
    }
   ],
   "source": [
    "x=int(input(\"enter the range: \"))\n",
    "s=set()\n",
    "for i in range(x):\n",
    "    e=input(\"enter element into the set : \")\n",
    "    s.add(e)\n",
    "print(s)\n",
    "e2=input(\"enter element to check: \")\n",
    "for i in s:\n",
    "    if(i==e2):\n",
    "        print(\"The value is present\") \n",
    "        break"
   ]
  },
  {
   "cell_type": "code",
   "execution_count": 15,
   "id": "ecf2d5b0",
   "metadata": {},
   "outputs": [],
   "source": [
    "#11. Write a Python program to find the occurrences of 3 most common words in a given text. And make it as a dictionaries"
   ]
  },
  {
   "cell_type": "code",
   "execution_count": 16,
   "id": "4d48af5b",
   "metadata": {},
   "outputs": [
    {
     "name": "stdout",
     "output_type": "stream",
     "text": [
      "enter the string: 1 abd 3 gh hj\n",
      "['1', 'abd', '3', 'gh', 'hj']\n",
      "{'1': 1, 'abd': 1, '3': 1, 'gh': 1, 'hj': 1}\n",
      "[('1', 1), ('3', 1), ('abd', 1), ('gh', 1), ('hj', 1)]\n"
     ]
    }
   ],
   "source": [
    "string=input(\"enter the string: \")\n",
    "x=string.split()\n",
    "y={}\n",
    "c=0\n",
    "for i in x:\n",
    "    m=x.count(i)\n",
    "    y[i]=m\n",
    "\n",
    "print(x)\n",
    "print(y)\n",
    "dic=sorted(y.items())\n",
    "print(dic)"
   ]
  },
  {
   "cell_type": "code",
   "execution_count": 17,
   "id": "8a755f60",
   "metadata": {},
   "outputs": [],
   "source": [
    "#12. Write a Python program that accepts name of given subject and mark, and make subjects as keys in dictionaries and marks as values and print the finaldictionary with subjects and marks"
   ]
  },
  {
   "cell_type": "code",
   "execution_count": 18,
   "id": "df5dfaf4",
   "metadata": {},
   "outputs": [
    {
     "name": "stdout",
     "output_type": "stream",
     "text": [
      "enter total subject: 3\n",
      "enter subject name: math\n",
      "enter marks: 65\n",
      "enter subject name: english\n",
      "enter marks: 40\n",
      "enter subject name: hindhi\n",
      "enter marks: 78\n",
      "{'math': '65', 'english': '40', 'hindhi': '78'}\n"
     ]
    }
   ],
   "source": [
    "x=int(input(\"enter total subject: \"))\n",
    "y={}\n",
    "for i in range(x):\n",
    "    key=input(\"enter subject name: \")\n",
    "    values=input(\"enter marks: \")\n",
    "    y[key]=values\n",
    "print(y)"
   ]
  },
  {
   "cell_type": "code",
   "execution_count": null,
   "id": "af147909",
   "metadata": {},
   "outputs": [],
   "source": []
  }
 ],
 "metadata": {
  "kernelspec": {
   "display_name": "Python 3 (ipykernel)",
   "language": "python",
   "name": "python3"
  },
  "language_info": {
   "codemirror_mode": {
    "name": "ipython",
    "version": 3
   },
   "file_extension": ".py",
   "mimetype": "text/x-python",
   "name": "python",
   "nbconvert_exporter": "python",
   "pygments_lexer": "ipython3",
   "version": "3.11.3"
  }
 },
 "nbformat": 4,
 "nbformat_minor": 5
}
