{
 "cells": [
  {
   "cell_type": "code",
   "execution_count": 1,
   "id": "4ad0b9e5",
   "metadata": {},
   "outputs": [],
   "source": [
    "#1.write a python program to convert a string to lower case"
   ]
  },
  {
   "cell_type": "code",
   "execution_count": 5,
   "id": "1ba4ab5c",
   "metadata": {},
   "outputs": [
    {
     "data": {
      "text/plain": [
       "'flower'"
      ]
     },
     "execution_count": 5,
     "metadata": {},
     "output_type": "execute_result"
    }
   ],
   "source": [
    "x=\"FLOWER\"\n",
    "x.lower()"
   ]
  },
  {
   "cell_type": "code",
   "execution_count": 4,
   "id": "74ed36e1",
   "metadata": {},
   "outputs": [],
   "source": [
    "#2.Write a pythonto convert only odd indexed characters to lower case"
   ]
  },
  {
   "cell_type": "code",
   "execution_count": 12,
   "id": "07e09696",
   "metadata": {},
   "outputs": [
    {
     "data": {
      "text/plain": [
       "'PyThOn'"
      ]
     },
     "execution_count": 12,
     "metadata": {},
     "output_type": "execute_result"
    }
   ],
   "source": [
    "var1=\"PYTHON\"\n",
    "var1[0].upper()+var1[1].lower()+var1[2].upper()+var1[3].lower()+var1[4].upper()+var1[5].lower()\n"
   ]
  },
  {
   "cell_type": "code",
   "execution_count": 17,
   "id": "601f0be9",
   "metadata": {},
   "outputs": [],
   "source": [
    "#3.Write a python program to convert only even indexed characters to lower case"
   ]
  },
  {
   "cell_type": "code",
   "execution_count": 20,
   "id": "4cb0bdb4",
   "metadata": {},
   "outputs": [
    {
     "data": {
      "text/plain": [
       "'pYtHoN'"
      ]
     },
     "execution_count": 20,
     "metadata": {},
     "output_type": "execute_result"
    }
   ],
   "source": [
    "var2=\"PYTHON\"\n",
    "var2[0].lower()+var2[1].upper()+var2[2].lower()+var2[3].upper()+var2[4].lower()+var2[5].upper()\n"
   ]
  },
  {
   "cell_type": "code",
   "execution_count": 21,
   "id": "d16f1fab",
   "metadata": {},
   "outputs": [],
   "source": [
    "#4.Write a python program to convert only odd indexed characters to upper case"
   ]
  },
  {
   "cell_type": "code",
   "execution_count": 26,
   "id": "2c12f516",
   "metadata": {},
   "outputs": [
    {
     "data": {
      "text/plain": [
       "'pYtHoN'"
      ]
     },
     "execution_count": 26,
     "metadata": {},
     "output_type": "execute_result"
    }
   ],
   "source": [
    "var3=\"python\"\n",
    "var3[0].lower()+var3[1].upper()+var3[2].lower()+var3[3].upper()+var3[4].lower()+var3[5].upper()\n"
   ]
  },
  {
   "cell_type": "code",
   "execution_count": 27,
   "id": "86838d71",
   "metadata": {},
   "outputs": [],
   "source": [
    "#5.Write a python programto convert only even indexed characters to upper case"
   ]
  },
  {
   "cell_type": "code",
   "execution_count": 28,
   "id": "cacf324f",
   "metadata": {},
   "outputs": [
    {
     "data": {
      "text/plain": [
       "'PyThOn'"
      ]
     },
     "execution_count": 28,
     "metadata": {},
     "output_type": "execute_result"
    }
   ],
   "source": [
    "var4=\"python\"\n",
    "var4[0].upper()+var4[1].lower()+var4[2].upper()+var4[3].lower()+var4[4].upper()+var4[5].lower()"
   ]
  },
  {
   "cell_type": "code",
   "execution_count": null,
   "id": "96ada94f",
   "metadata": {},
   "outputs": [],
   "source": [
    "#6.Write a python where you have different variable which contains your name,sex,age,phone no,fathers name and mothers name.And by using this variable create a variable named bio-data where you will use all this variable\n"
   ]
  },
  {
   "cell_type": "code",
   "execution_count": 1,
   "id": "67627045",
   "metadata": {},
   "outputs": [
    {
     "name": "stdout",
     "output_type": "stream",
     "text": [
      "enter your namejyothika\n",
      "enter your sexfemale\n",
      "enter your age20\n",
      "enter your phn_no94587125\n",
      "enter your fathernamekonda reddy\n",
      "enter your mothername sunandha\n",
      "<built-in method format of str object at 0x00000201256921B0>\n"
     ]
    }
   ],
   "source": [
    "name=input(\"enter your name\")\n",
    "sex=input(\"enter your sex\")\n",
    "age=int(input(\"enter your age\"))\n",
    "phn_no=int(input(\"enter your phn_no\"))\n",
    "fathername=(input(\"enter your fathername\"))\n",
    "mothername=(input(\"enter your mothername \"))\n",
    "bio_data=\"my name is {} my sex is {} my age is {} my phn_no is {} my fathername is {} my mothername is {}\"\n",
    "print(\"bio_data\".format)"
   ]
  },
  {
   "cell_type": "code",
   "execution_count": 2,
   "id": "b5d46459",
   "metadata": {},
   "outputs": [],
   "source": [
    "#7.Write a python program to count how many times \"@\"occurred"
   ]
  },
  {
   "cell_type": "code",
   "execution_count": 3,
   "id": "6b473d3a",
   "metadata": {},
   "outputs": [
    {
     "data": {
      "text/plain": [
       "8"
      ]
     },
     "execution_count": 3,
     "metadata": {},
     "output_type": "execute_result"
    }
   ],
   "source": [
    "x=\"@@@@abcdef@@@@\"\n",
    "x.count(\"@\")"
   ]
  },
  {
   "cell_type": "code",
   "execution_count": 33,
   "id": "fcd710df",
   "metadata": {},
   "outputs": [
    {
     "name": "stdout",
     "output_type": "stream",
     "text": [
      "name1\n",
      "name2\n",
      "name3\n"
     ]
    }
   ],
   "source": [
    "#8.Write a python to get only names from the string \"name1.@gmail.com,name2.@gmail.com,name3.@gmail.com\"\n",
    "x=\"name1.@gmail.com,name2.@gmail.com,name3.@gmail.com\"\n",
    "name1=\"name1.@gmail.com\"\n",
    "name2=\"name2.@gmail.com\"\n",
    "name3=\"name3.@gmail.com\"\n",
    "print(x.replace(\"name1.@gmail.com\",\"name1\")[0:5])\n",
    "print(x.replace(\"name2.@gmail.com\",\"name2\")[17:22])\n",
    "print(x.replace(\"name3.@gmail.com\",\"name3\")[34:40])\n",
    "  "
   ]
  },
  {
   "cell_type": "code",
   "execution_count": 25,
   "id": "25af2229",
   "metadata": {},
   "outputs": [],
   "source": [
    "#9.Given a string of odd length greater that 9,return a new string made of the middle three characters of a given string "
   ]
  },
  {
   "cell_type": "code",
   "execution_count": 23,
   "id": "2f61515d",
   "metadata": {},
   "outputs": [
    {
     "data": {
      "text/plain": [
       "'mei'"
      ]
     },
     "execution_count": 23,
     "metadata": {},
     "output_type": "execute_result"
    }
   ],
   "source": [
    "x=\"mynameissan\"\n",
    "x[4:7]"
   ]
  },
  {
   "cell_type": "code",
   "execution_count": 10,
   "id": "a0a6b21e",
   "metadata": {},
   "outputs": [],
   "source": [
    "#10.Write a python program to insert a 2 string in the middle of 1 string"
   ]
  },
  {
   "cell_type": "code",
   "execution_count": 12,
   "id": "5da32a43",
   "metadata": {},
   "outputs": [
    {
     "data": {
      "text/plain": [
       "'msayn'"
      ]
     },
     "execution_count": 12,
     "metadata": {},
     "output_type": "execute_result"
    }
   ],
   "source": [
    "str1=\"myn\"\n",
    "str2=\"sa\"\n",
    "str1[0:1]+str2+str1[1:3]"
   ]
  },
  {
   "cell_type": "code",
   "execution_count": 13,
   "id": "25e00670",
   "metadata": {},
   "outputs": [],
   "source": [
    "#11.Write a program to remove vowels from the entire alphabets   "
   ]
  },
  {
   "cell_type": "code",
   "execution_count": 14,
   "id": "88c3d534",
   "metadata": {},
   "outputs": [
    {
     "data": {
      "text/plain": [
       "'bcdfghjklmnpqrstvwxyz'"
      ]
     },
     "execution_count": 14,
     "metadata": {},
     "output_type": "execute_result"
    }
   ],
   "source": [
    "x=\"abcdefghijklmnopqrstuvwxyz\"\n",
    "x[1:4]+x[5:8]+x[9:14]+x[15:20]+x[21:26]"
   ]
  },
  {
   "cell_type": "code",
   "execution_count": null,
   "id": "84724ba9",
   "metadata": {},
   "outputs": [],
   "source": []
  }
 ],
 "metadata": {
  "kernelspec": {
   "display_name": "Python 3 (ipykernel)",
   "language": "python",
   "name": "python3"
  },
  "language_info": {
   "codemirror_mode": {
    "name": "ipython",
    "version": 3
   },
   "file_extension": ".py",
   "mimetype": "text/x-python",
   "name": "python",
   "nbconvert_exporter": "python",
   "pygments_lexer": "ipython3",
   "version": "3.11.3"
  }
 },
 "nbformat": 4,
 "nbformat_minor": 5
}
