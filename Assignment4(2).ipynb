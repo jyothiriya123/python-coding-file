{
 "cells": [
  {
   "cell_type": "code",
   "execution_count": 12,
   "id": "cdcd2c7d",
   "metadata": {},
   "outputs": [],
   "source": [
    "#1. Write a python program that prints all the numbers from 0 to 6 except 3 and 6"
   ]
  },
  {
   "cell_type": "code",
   "execution_count": 8,
   "id": "6e0f17b6",
   "metadata": {},
   "outputs": [
    {
     "name": "stdout",
     "output_type": "stream",
     "text": [
      "enter number1:0\n",
      "enter number2:9\n",
      "0 1 2 4 5 7 8 "
     ]
    }
   ],
   "source": [
    "num1=int(input(\"enter number1:\"))\n",
    "num2=int(input(\"enter number2:\"))\n",
    "for i in range(num1,num2):\n",
    "    if i==3: \n",
    "        continue\n",
    "    elif i==6:\n",
    "        continue\n",
    "    else:\n",
    "        print(i,end=\" \")"
   ]
  },
  {
   "cell_type": "code",
   "execution_count": 2,
   "id": "b06fcfb6",
   "metadata": {},
   "outputs": [],
   "source": [
    "#2. Write a program to except a number from a user and calculated the sum of all the numbers from 1 to given number"
   ]
  },
  {
   "cell_type": "code",
   "execution_count": 9,
   "id": "9a0c0aae",
   "metadata": {},
   "outputs": [
    {
     "name": "stdout",
     "output_type": "stream",
     "text": [
      "enter number:10\n",
      "55\n",
      "enter number:12\n",
      "78\n",
      "enter number:14\n",
      "105\n"
     ]
    }
   ],
   "source": [
    "num=int(input(\"enter number:\"))\n",
    "x=1\n",
    "ans=print(num*(num+1)//2)\n",
    "ans\n",
    "# or \n",
    "num=int(input(\"enter number:\"))\n",
    "x=1\n",
    "sum1=0\n",
    "for i in range(x,num+1):\n",
    "    sum1=sum1+i\n",
    "    \n",
    "print(sum1)\n",
    "#or\n",
    "num=int(input(\"enter number:\"))\n",
    "x=1\n",
    "sum1=0\n",
    "while x<=num:\n",
    "    sum1=sum1+x\n",
    "    x=x+1\n",
    "print(sum1)\n"
   ]
  },
  {
   "cell_type": "code",
   "execution_count": 3,
   "id": "a92de831",
   "metadata": {},
   "outputs": [],
   "source": [
    "#3.Write a program to print multiplication table of a given number(input) "
   ]
  },
  {
   "cell_type": "code",
   "execution_count": 10,
   "id": "860dfda3",
   "metadata": {},
   "outputs": [
    {
     "name": "stdout",
     "output_type": "stream",
     "text": [
      "3\n",
      "3*1=3\n",
      "3*2=6\n",
      "3*3=9\n",
      "3*4=12\n",
      "3*5=15\n",
      "3*6=18\n",
      "3*7=21\n",
      "3*8=24\n",
      "3*9=27\n",
      "3*10=30\n"
     ]
    }
   ],
   "source": [
    "num=int(input())\n",
    "x=1\n",
    "while x<=10:\n",
    "    print(\"{}*{}={}\".format(num,x,num*x))\n",
    "    x=x+1\n"
   ]
  },
  {
   "cell_type": "code",
   "execution_count": 4,
   "id": "52de1625",
   "metadata": {},
   "outputs": [],
   "source": [
    "#4. Write a program to count the total number of digits in a number using a while loop."
   ]
  },
  {
   "cell_type": "code",
   "execution_count": 11,
   "id": "65dcdc4e",
   "metadata": {},
   "outputs": [
    {
     "name": "stdout",
     "output_type": "stream",
     "text": [
      "1234567\n",
      "number of digits:  7\n"
     ]
    }
   ],
   "source": [
    "num=int(input())\n",
    "count=0\n",
    "while num>0:\n",
    "    count=count+1\n",
    "    num=num//10\n",
    "print(\"number of digits: \",count)\n"
   ]
  },
  {
   "cell_type": "code",
   "execution_count": 5,
   "id": "f0fff968",
   "metadata": {},
   "outputs": [],
   "source": [
    "#5. Write a python program to guess a number between 1 to 10"
   ]
  },
  {
   "cell_type": "code",
   "execution_count": 13,
   "id": "c570593f",
   "metadata": {},
   "outputs": [
    {
     "name": "stdout",
     "output_type": "stream",
     "text": [
      "enter guess number:5\n",
      "enter guess number:12\n",
      "well guess\n"
     ]
    }
   ],
   "source": [
    "while True:\n",
    "    guess=int(input(\"enter guess number:\"))\n",
    "    if guess==12:\n",
    "        print(\"well guess\")\n",
    "        break"
   ]
  },
  {
   "cell_type": "code",
   "execution_count": 6,
   "id": "4c75c28b",
   "metadata": {},
   "outputs": [],
   "source": [
    "#6. Write a python program which iterates the integers from 1 to 60.For multiplies of three print \"Fizz\" instead of the number and for the multiplies of five print \"Buzz\".For numbers which are multiplies of both three and five print"
   ]
  },
  {
   "cell_type": "code",
   "execution_count": 14,
   "id": "b4166ff8",
   "metadata": {},
   "outputs": [
    {
     "name": "stdout",
     "output_type": "stream",
     "text": [
      "60\n",
      "1\n",
      "2\n",
      "buzz\n",
      "4\n",
      "buzz\n",
      "buzz\n",
      "7\n",
      "8\n",
      "buzz\n",
      "buzz\n",
      "11\n",
      "buzz\n",
      "13\n",
      "14\n",
      "fizzbuzz\n",
      "16\n",
      "17\n",
      "buzz\n",
      "19\n",
      "buzz\n",
      "buzz\n",
      "22\n",
      "23\n",
      "buzz\n",
      "buzz\n",
      "26\n",
      "buzz\n",
      "28\n",
      "29\n",
      "fizzbuzz\n",
      "31\n",
      "32\n",
      "buzz\n",
      "34\n",
      "buzz\n",
      "buzz\n",
      "37\n",
      "38\n",
      "buzz\n",
      "buzz\n",
      "41\n",
      "buzz\n",
      "43\n",
      "44\n",
      "fizzbuzz\n",
      "46\n",
      "47\n",
      "buzz\n",
      "49\n",
      "buzz\n",
      "buzz\n",
      "52\n",
      "53\n",
      "buzz\n",
      "buzz\n",
      "56\n",
      "buzz\n",
      "58\n",
      "59\n"
     ]
    }
   ],
   "source": [
    "number=int(input())\n",
    "\n",
    "for i in range(1,number):\n",
    "    if i%3==0 and i%5==0:\n",
    "        print(\"fizzbuzz\")\n",
    "    elif i%5==0:\n",
    "        print(\"buzz\")\n",
    "    elif i%3==0 :\n",
    "        print(\"buzz\")\n",
    "    else:\n",
    "        print(i)\n"
   ]
  },
  {
   "cell_type": "code",
   "execution_count": 7,
   "id": "46722807",
   "metadata": {},
   "outputs": [],
   "source": [
    "#7. Write a python program that accepts a string and calculate the number of digits and letters."
   ]
  },
  {
   "cell_type": "code",
   "execution_count": 15,
   "id": "9d699c94",
   "metadata": {},
   "outputs": [
    {
     "name": "stdout",
     "output_type": "stream",
     "text": [
      "jyo@123\n",
      "['j', 'y', 'o', '@', '1', '2', '3']\n",
      "3\n",
      "3\n"
     ]
    }
   ],
   "source": [
    "string=input()\n",
    "r=[]\n",
    "for i in range(len(string)):\n",
    "    r.append(string[i])\n",
    "print(r)\n",
    "countalpha,countdigit=0,0\n",
    "for i in range(len(r)):\n",
    "    if(r[i].isalpha()):\n",
    "        countalpha+=1\n",
    "    elif(r[i].isdigit()):\n",
    "        countdigit+=1\n",
    "print(countalpha)\n",
    "print(countdigit)\n"
   ]
  },
  {
   "cell_type": "code",
   "execution_count": 16,
   "id": "31e193bd",
   "metadata": {},
   "outputs": [],
   "source": [
    "#8. Write a program to check the validity of password input by users.validation:Atleast 1 letter between [a-z] and 1 letter between [A-Z].Atleast 1 number between [0-9].Atleast 1 character from [$#@].Minimum length 6 characters.Maximum length 16 characters."
   ]
  },
  {
   "cell_type": "code",
   "execution_count": 24,
   "id": "66e23fdc",
   "metadata": {},
   "outputs": [
    {
     "name": "stdout",
     "output_type": "stream",
     "text": [
      "jyoriya@123\n",
      "password is invalid\n"
     ]
    }
   ],
   "source": [
    "password=input()\n",
    "small=['a','b','c','d','e','f','g','h','i','j','k','l','m','n','o','p','q','r','s','t','u','v','w','x','y','z']\n",
    "capitals=['A','B','C','D','E','F','G','H','I','J','K','L','M','N','O','P','Q','R','S','T','U','V','W','X','Y','Z']\n",
    "numbers=['0','1','2','3','4','5','6','7','8','9']\n",
    "symbols=['#','$','@']\n",
    "count,count1,count2,count3=0,0,0,0\n",
    "if(6<=len(password)<=16):\n",
    "    r=[]\n",
    "    for i in range(len(password)):\n",
    "        r.append(password[i])\n",
    "    for i in range(len(r)):\n",
    "        if(r[i] in small):\n",
    "            count+=1\n",
    "    if(count>0):\n",
    "        for i in range(len(r)):\n",
    "            if(r[i] in capitals):\n",
    "                count1+=1\n",
    "    if(count1>0):\n",
    "        for i in range(len(r)):\n",
    "            if(r[i] in numbers):\n",
    "                count2+=1\n",
    "    if(count2>0):\n",
    "        for i in range(len(r)):\n",
    "            if(r[i] in symbols):\n",
    "                count3+=1\n",
    "                print(\"password is valid\")\n",
    "    else:\n",
    "        print(\"password is invalid\")\n",
    "else:\n",
    "    print(\"password is invalid\")\n"
   ]
  },
  {
   "cell_type": "code",
   "execution_count": 17,
   "id": "4952b709",
   "metadata": {},
   "outputs": [],
   "source": [
    "#9. Write a program in python to reverse a word by using while loop."
   ]
  },
  {
   "cell_type": "code",
   "execution_count": 25,
   "id": "56b119a3",
   "metadata": {},
   "outputs": [
    {
     "name": "stdout",
     "output_type": "stream",
     "text": [
      "fast\n",
      "the reversed stirng is: tsaf\n"
     ]
    }
   ],
   "source": [
    "string=input()\n",
    "reverse=''\n",
    "index=len(string)-1\n",
    "while(index>=0):\n",
    "    reverse+=string[index]\n",
    "    index-=1\n",
    "print(\"the reversed stirng is:\",reverse)"
   ]
  },
  {
   "cell_type": "code",
   "execution_count": 18,
   "id": "afccbeef",
   "metadata": {},
   "outputs": [],
   "source": [
    "#10. Write a program which takes 10 integers as input using loop and print their average value on the screen"
   ]
  },
  {
   "cell_type": "code",
   "execution_count": 27,
   "id": "92f3c947",
   "metadata": {},
   "outputs": [
    {
     "name": "stdout",
     "output_type": "stream",
     "text": [
      "10 2 6 7\n",
      "the sum of the given numbers is 25\n",
      "the avg of the given numbers is 6.25\n"
     ]
    }
   ],
   "source": [
    "s=input()\n",
    "string1=s.split(\" \")\n",
    "c=0\n",
    "for i in string1:\n",
    "    c=c+int(i)\n",
    "print(\"the sum of the given numbers is\",c)\n",
    "print(\"the avg of the given numbers is\",c/len(string1))"
   ]
  },
  {
   "cell_type": "code",
   "execution_count": 19,
   "id": "b1747825",
   "metadata": {},
   "outputs": [],
   "source": [
    "#11. Write a program which takes integers inputs from user untill he/she presses \"q\".print average and product of all numbers."
   ]
  },
  {
   "cell_type": "code",
   "execution_count": 28,
   "id": "5cdcfc33",
   "metadata": {},
   "outputs": [
    {
     "name": "stdout",
     "output_type": "stream",
     "text": [
      "2\n",
      "5\n",
      "7\n",
      "9\n",
      "q\n",
      "the product is: 630\n",
      "the average is: 5.75\n"
     ]
    }
   ],
   "source": [
    "r,sum,pro=[],0,1\n",
    "while True:\n",
    "    s=input()\n",
    "    r.append(s)\n",
    "    if(s!=\"q\"):\n",
    "        sum+=int(s)\n",
    "        pro*=int(s)\n",
    "    else:\n",
    "        break\n",
    "print(\"the product is:\",pro)\n",
    "print(\"the average is:\",sum/(len(r)-1))"
   ]
  },
  {
   "cell_type": "code",
   "execution_count": 20,
   "id": "1f1ec49c",
   "metadata": {},
   "outputs": [],
   "source": [
    "#12. Write a python program which will remove all digits or any other character from the string except alphabets."
   ]
  },
  {
   "cell_type": "code",
   "execution_count": 29,
   "id": "7eabc8dc",
   "metadata": {},
   "outputs": [
    {
     "name": "stdout",
     "output_type": "stream",
     "text": [
      "12drf@@#$vbgty^&%*2asder\n",
      "d r f v b g t y a s d e r "
     ]
    }
   ],
   "source": [
    "string=input()\n",
    "r=[]\n",
    "for i in range(len(string)):\n",
    "    r.append(string[i])\n",
    "    \n",
    "for i in range(len(r)):\n",
    "    if(r[i].isalpha()):\n",
    "        print(r[i],end=\" \")"
   ]
  },
  {
   "cell_type": "code",
   "execution_count": 21,
   "id": "70c8d13b",
   "metadata": {},
   "outputs": [],
   "source": [
    "#13. Write a python program to find the sum of all even numbers from 0 to 10"
   ]
  },
  {
   "cell_type": "code",
   "execution_count": 30,
   "id": "12c8dc90",
   "metadata": {},
   "outputs": [
    {
     "name": "stdout",
     "output_type": "stream",
     "text": [
      "enter number:15\n",
      "56\n"
     ]
    }
   ],
   "source": [
    "num=int(input(\"enter number:\"))\n",
    "x=0\n",
    "sum1=0\n",
    "while x<=num:\n",
    "    if x%2==0:\n",
    "        sum1=sum1+x\n",
    "        x=x+2\n",
    "print(sum1)\n"
   ]
  },
  {
   "cell_type": "code",
   "execution_count": 22,
   "id": "b938905b",
   "metadata": {},
   "outputs": [],
   "source": [
    "#14. Write a python program which will accept a digit and print all the numbers before it till 0"
   ]
  },
  {
   "cell_type": "code",
   "execution_count": 31,
   "id": "7f990a8a",
   "metadata": {},
   "outputs": [
    {
     "name": "stdout",
     "output_type": "stream",
     "text": [
      "16\n",
      "16 15 14 13 12 11 10 9 8 7 6 5 4 3 2 1 0 "
     ]
    }
   ],
   "source": [
    "num=int(input())\n",
    "x=0\n",
    "while x<=num:\n",
    "    print(num,end=\" \")\n",
    "    num=num-1\n",
    " "
   ]
  },
  {
   "cell_type": "code",
   "execution_count": 23,
   "id": "d93dc2ee",
   "metadata": {},
   "outputs": [],
   "source": [
    "#15. Crete a dynamic calculator which will run continue till you press \"c\""
   ]
  },
  {
   "cell_type": "code",
   "execution_count": 32,
   "id": "fea9f39d",
   "metadata": {},
   "outputs": [
    {
     "name": "stdout",
     "output_type": "stream",
     "text": [
      "enter first number:\n",
      "10\n",
      "enter second number:\n",
      "5\n",
      "enter  operator:\n",
      "-\n",
      "substraction of two numbers is : 5\n",
      "enter any letter to continue and c to quit\n",
      "c\n",
      "calucator exited\n"
     ]
    }
   ],
   "source": [
    "while True:\n",
    "    print(\"enter first number:\")\n",
    "    a=int(input())\n",
    "    print(\"enter second number:\")\n",
    "    b=int(input())\n",
    "    add=a+b\n",
    "    sub=a-b\n",
    "    mul=a*b\n",
    "    div=a/b\n",
    "    modulodiv=a%b\n",
    "    floordiv=a//b\n",
    "    print(\"enter  operator:\")\n",
    "    operator=input()\n",
    "    if(operator==\"+\"):\n",
    "        print(\"addition of two numbers is :\",add)\n",
    "    elif(operator==\"-\"):\n",
    "        print(\"substraction of two numbers is :\",sub)\n",
    "    elif(operator==\"*\"):\n",
    "        print(\"multiplication of two numbers is :\",mul)\n",
    "    elif(operator==\"/\"):\n",
    "        print(\"division of two numbers is :\",div)\n",
    "    elif(operator==\"%\"):\n",
    "        print(\"modulo division of two numbers is :\",modulodiv)\n",
    "    elif(operator==\"//\"):\n",
    "        print(\"floor division of two numbers is :\",floordiv)\n",
    "    else:\n",
    "        print(\"invalid input\")\n",
    "    print(\"enter any letter to continue and c to quit\")\n",
    "    val=input()\n",
    "    if(val!=\"c\"):\n",
    "        continue\n",
    "    else:\n",
    "        print(\"calucator exited\")\n",
    "        break\n"
   ]
  },
  {
   "cell_type": "code",
   "execution_count": null,
   "id": "84ae2fa5",
   "metadata": {},
   "outputs": [],
   "source": []
  }
 ],
 "metadata": {
  "kernelspec": {
   "display_name": "Python 3 (ipykernel)",
   "language": "python",
   "name": "python3"
  },
  "language_info": {
   "codemirror_mode": {
    "name": "ipython",
    "version": 3
   },
   "file_extension": ".py",
   "mimetype": "text/x-python",
   "name": "python",
   "nbconvert_exporter": "python",
   "pygments_lexer": "ipython3",
   "version": "3.11.3"
  }
 },
 "nbformat": 4,
 "nbformat_minor": 5
}
