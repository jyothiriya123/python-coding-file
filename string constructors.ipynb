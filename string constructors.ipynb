{
 "cells": [
  {
   "cell_type": "code",
   "execution_count": 2,
   "id": "896e551d",
   "metadata": {},
   "outputs": [
    {
     "data": {
      "text/plain": [
       "True"
      ]
     },
     "execution_count": 2,
     "metadata": {},
     "output_type": "execute_result"
    }
   ],
   "source": [
    "x=\"abc\"\n",
    "x.isidentifier()"
   ]
  },
  {
   "cell_type": "code",
   "execution_count": 3,
   "id": "67ce1f72",
   "metadata": {},
   "outputs": [
    {
     "data": {
      "text/plain": [
       "False"
      ]
     },
     "execution_count": 3,
     "metadata": {},
     "output_type": "execute_result"
    }
   ],
   "source": [
    "x=\"12abc\"\n",
    "x.isidentifier()"
   ]
  },
  {
   "cell_type": "code",
   "execution_count": 7,
   "id": "53360205",
   "metadata": {},
   "outputs": [
    {
     "data": {
      "text/plain": [
       "'00000000ac'"
      ]
     },
     "execution_count": 7,
     "metadata": {},
     "output_type": "execute_result"
    }
   ],
   "source": [
    "x=\"ac\"\n",
    "x.zfill(10)"
   ]
  },
  {
   "cell_type": "code",
   "execution_count": 11,
   "id": "930f3746",
   "metadata": {},
   "outputs": [
    {
     "data": {
      "text/plain": [
       "'@@@@ac@@@@'"
      ]
     },
     "execution_count": 11,
     "metadata": {},
     "output_type": "execute_result"
    }
   ],
   "source": [
    "x=\"ac\"\n",
    "x.center(10,\"@\")"
   ]
  },
  {
   "cell_type": "code",
   "execution_count": 12,
   "id": "40483227",
   "metadata": {},
   "outputs": [
    {
     "data": {
      "text/plain": [
       "'1'"
      ]
     },
     "execution_count": 12,
     "metadata": {},
     "output_type": "execute_result"
    }
   ],
   "source": [
    "x=1\n",
    "str(x)"
   ]
  },
  {
   "cell_type": "code",
   "execution_count": 13,
   "id": "484b5658",
   "metadata": {},
   "outputs": [
    {
     "data": {
      "text/plain": [
       "'1278'"
      ]
     },
     "execution_count": 13,
     "metadata": {},
     "output_type": "execute_result"
    }
   ],
   "source": [
    "x=1278\n",
    "str(x)"
   ]
  },
  {
   "cell_type": "code",
   "execution_count": 14,
   "id": "a784f5ec",
   "metadata": {},
   "outputs": [
    {
     "data": {
      "text/plain": [
       "124"
      ]
     },
     "execution_count": 14,
     "metadata": {},
     "output_type": "execute_result"
    }
   ],
   "source": [
    "x=\"124\"\n",
    "int(x)"
   ]
  },
  {
   "cell_type": "code",
   "execution_count": 15,
   "id": "3bb113cf",
   "metadata": {},
   "outputs": [
    {
     "data": {
      "text/plain": [
       "1.58"
      ]
     },
     "execution_count": 15,
     "metadata": {},
     "output_type": "execute_result"
    }
   ],
   "source": [
    "x=\"1.58\"\n",
    "float(x)"
   ]
  },
  {
   "cell_type": "code",
   "execution_count": 17,
   "id": "3ba4b8ad",
   "metadata": {},
   "outputs": [
    {
     "data": {
      "text/plain": [
       "(1+4j)"
      ]
     },
     "execution_count": 17,
     "metadata": {},
     "output_type": "execute_result"
    }
   ],
   "source": [
    "x=\"1+4j\"\n",
    "complex(x)"
   ]
  },
  {
   "cell_type": "code",
   "execution_count": 18,
   "id": "633c18be",
   "metadata": {},
   "outputs": [
    {
     "data": {
      "text/plain": [
       "'pythonjava'"
      ]
     },
     "execution_count": 18,
     "metadata": {},
     "output_type": "execute_result"
    }
   ],
   "source": [
    "x=\"python\"\n",
    "y=\"java\"\n",
    "x+y\n"
   ]
  },
  {
   "cell_type": "code",
   "execution_count": 23,
   "id": "3bdecf9b",
   "metadata": {},
   "outputs": [],
   "source": [
    "name=\"jyothika\"\n",
    "age=20\n",
    "phn_no=9241254812\n",
    "height=4.9\n",
    "weight=45"
   ]
  },
  {
   "cell_type": "code",
   "execution_count": 29,
   "id": "d38eda71",
   "metadata": {},
   "outputs": [
    {
     "data": {
      "text/plain": [
       "'my name is jyothika my age is 20 my phn_no is 9241254812 my height is 4.9 '"
      ]
     },
     "execution_count": 29,
     "metadata": {},
     "output_type": "execute_result"
    }
   ],
   "source": [
    "\"my name is {} my age is {} my phn_no is {} my height is {} \".format(name,age,phn_no,height,weight)"
   ]
  },
  {
   "cell_type": "code",
   "execution_count": 5,
   "id": "e1243612",
   "metadata": {},
   "outputs": [
    {
     "name": "stdout",
     "output_type": "stream",
     "text": [
      "enter any number40\n",
      "enter any number15\n",
      "sum of two numbers == 55\n",
      "difference of two numbers == 55\n",
      "multiplication of two numbers == 55\n"
     ]
    }
   ],
   "source": [
    "num1=int(input(\"enter any number\"))\n",
    "num2=int(input(\"enter any number\"))\n",
    "print(\"sum of two numbers == {}\".format(num1+num2))\n",
    "print(\"difference of two numbers == {}\".format(num1+num2))\n",
    "print(\"multiplication of two numbers == {}\".format(num1+num2))      "
   ]
  },
  {
   "cell_type": "code",
   "execution_count": 8,
   "id": "dfd912e3",
   "metadata": {},
   "outputs": [
    {
     "name": "stdout",
     "output_type": "stream",
     "text": [
      "Enter any number10\n",
      "Enter any number15\n"
     ]
    },
    {
     "data": {
      "text/plain": [
       "'10*15=-5'"
      ]
     },
     "execution_count": 8,
     "metadata": {},
     "output_type": "execute_result"
    }
   ],
   "source": [
    "num1=int(input(\"Enter any number\"))\n",
    "num2=int(input(\"Enter any number\"))\n",
    "\"{}+{}={}\".format(num1,num2,num1+num2)\n",
    "\"{}+{}={}\".format(num1,num2,num1+num2)\n",
    "\"{}*{}={}\".format(num1,num2,num1-num2)"
   ]
  },
  {
   "cell_type": "code",
   "execution_count": 13,
   "id": "215ed71c",
   "metadata": {},
   "outputs": [
    {
     "data": {
      "text/plain": [
       "'AbCdEf'"
      ]
     },
     "execution_count": 13,
     "metadata": {},
     "output_type": "execute_result"
    }
   ],
   "source": [
    "var1=\"aBcDeF\"\n",
    "var1[0].upper()+var1[1].lower()+var1[2].upper()+var1[3].lower()+var1[4].upper()+var1[5].lower()"
   ]
  },
  {
   "cell_type": "code",
   "execution_count": 14,
   "id": "8616ba29",
   "metadata": {},
   "outputs": [
    {
     "name": "stdout",
     "output_type": "stream",
     "text": [
      "1 2 3\n"
     ]
    }
   ],
   "source": [
    "x=1\n",
    "y=2\n",
    "z=3\n",
    "print(x,y,z)"
   ]
  },
  {
   "cell_type": "code",
   "execution_count": 23,
   "id": "1095d04e",
   "metadata": {},
   "outputs": [
    {
     "name": "stdout",
     "output_type": "stream",
     "text": [
      "1@2@3\n",
      "hi\n"
     ]
    }
   ],
   "source": [
    "x=1\n",
    "y=2\n",
    "z=3\n",
    "print(x,y,z,sep=\"@\")\n",
    "print(\"hi\")"
   ]
  },
  {
   "cell_type": "code",
   "execution_count": 30,
   "id": "ded253e3",
   "metadata": {},
   "outputs": [
    {
     "name": "stdout",
     "output_type": "stream",
     "text": [
      "258@417 helloworld\n"
     ]
    }
   ],
   "source": [
    "x=258\n",
    "y=417\n",
    "print(x,y,sep=\"@\",end=\" \")\n",
    "print(\"helloworld\")"
   ]
  },
  {
   "cell_type": "code",
   "execution_count": 31,
   "id": "14289b37",
   "metadata": {},
   "outputs": [
    {
     "data": {
      "text/plain": [
       "'1 1.1'"
      ]
     },
     "execution_count": 31,
     "metadata": {},
     "output_type": "execute_result"
    }
   ],
   "source": [
    "x=1\n",
    "y=1.1\n",
    "\"{} {}\".format(x,y)"
   ]
  },
  {
   "cell_type": "code",
   "execution_count": 32,
   "id": "04c5f4ef",
   "metadata": {},
   "outputs": [
    {
     "name": "stdout",
     "output_type": "stream",
     "text": [
      "a\tb\n"
     ]
    }
   ],
   "source": [
    "x=\"a\\tb\"\n",
    "print(x)"
   ]
  },
  {
   "cell_type": "code",
   "execution_count": 34,
   "id": "35bf3a81",
   "metadata": {},
   "outputs": [
    {
     "name": "stdout",
     "output_type": "stream",
     "text": [
      "enter your namejyothika\n",
      "enter your age20\n",
      "enter your phn_no9014151418\n",
      "enter your height4.9\n",
      "my name is jyothika,my age is 20,my phn_no is 9014151418,my height is 4.9\n"
     ]
    }
   ],
   "source": [
    "name=input(\"enter your name\")\n",
    "age=int(input(\"enter your age\"))\n",
    "phn_no=int(input(\"enter your phn_no\"))\n",
    "height=float(input(\"enter your height\"))\n",
    "print(\"my name is {},my age is {},my phn_no is {},my height is {}\".format(name,age,phn_no,height))"
   ]
  },
  {
   "cell_type": "code",
   "execution_count": null,
   "id": "72f3f9d5",
   "metadata": {},
   "outputs": [],
   "source": []
  }
 ],
 "metadata": {
  "kernelspec": {
   "display_name": "Python 3 (ipykernel)",
   "language": "python",
   "name": "python3"
  },
  "language_info": {
   "codemirror_mode": {
    "name": "ipython",
    "version": 3
   },
   "file_extension": ".py",
   "mimetype": "text/x-python",
   "name": "python",
   "nbconvert_exporter": "python",
   "pygments_lexer": "ipython3",
   "version": "3.11.3"
  }
 },
 "nbformat": 4,
 "nbformat_minor": 5
}
