{
 "cells": [
  {
   "cell_type": "code",
   "execution_count": 1,
   "id": "dd6d4d24",
   "metadata": {},
   "outputs": [],
   "source": [
    "#1) Define a function which will return max of three numbers "
   ]
  },
  {
   "cell_type": "code",
   "execution_count": 7,
   "id": "6f2783c0",
   "metadata": {},
   "outputs": [
    {
     "name": "stdout",
     "output_type": "stream",
     "text": [
      "6\n"
     ]
    }
   ],
   "source": [
    "def max_of_two(x,y,):\n",
    "    if x > y:\n",
    "        return x\n",
    "    return y\n",
    "def  max_of_three(x,y,z):\n",
    "    return max_of_two(x, max_of_two(y,z))\n",
    "print( max_of_three(3,6,-5))"
   ]
  },
  {
   "cell_type": "code",
   "execution_count": 6,
   "id": "4d385b79",
   "metadata": {},
   "outputs": [],
   "source": [
    "#2) Define a python function to reverse string."
   ]
  },
  {
   "cell_type": "code",
   "execution_count": 11,
   "id": "bd3666aa",
   "metadata": {},
   "outputs": [
    {
     "name": "stdout",
     "output_type": "stream",
     "text": [
      "enter the string: jyothika\n"
     ]
    },
    {
     "data": {
      "text/plain": [
       "'akihtoyj'"
      ]
     },
     "execution_count": 11,
     "metadata": {},
     "output_type": "execute_result"
    }
   ],
   "source": [
    "def reverse1(x):\n",
    "    w=\"\"\n",
    "    for i in x:\n",
    "        w=i+w\n",
    "    return w\n",
    "x=input(\"enter the string: \")\n",
    "reverse1(x)"
   ]
  },
  {
   "cell_type": "code",
   "execution_count": 12,
   "id": "22b185bc",
   "metadata": {},
   "outputs": [],
   "source": [
    "#3) Write a python program to define a function that accepts 2 values and return its sum,subtraction and multiplication."
   ]
  },
  {
   "cell_type": "code",
   "execution_count": 21,
   "id": "83ca710f",
   "metadata": {},
   "outputs": [],
   "source": [
    "def sum(num1,num2):\n",
    "    print(num1+num2)"
   ]
  },
  {
   "cell_type": "code",
   "execution_count": 22,
   "id": "5b674006",
   "metadata": {},
   "outputs": [
    {
     "name": "stdout",
     "output_type": "stream",
     "text": [
      "16\n"
     ]
    }
   ],
   "source": [
    "sum(7,9)"
   ]
  },
  {
   "cell_type": "code",
   "execution_count": 25,
   "id": "965d2999",
   "metadata": {},
   "outputs": [],
   "source": [
    "def sub(num1,num2):\n",
    "    print(num1-num2)"
   ]
  },
  {
   "cell_type": "code",
   "execution_count": 26,
   "id": "0ba8ad27",
   "metadata": {},
   "outputs": [
    {
     "name": "stdout",
     "output_type": "stream",
     "text": [
      "4\n"
     ]
    }
   ],
   "source": [
    "sub(9,5)"
   ]
  },
  {
   "cell_type": "code",
   "execution_count": 28,
   "id": "ff654600",
   "metadata": {},
   "outputs": [],
   "source": [
    "def mul(num1,num2):\n",
    "    print(num1*num2)"
   ]
  },
  {
   "cell_type": "code",
   "execution_count": 29,
   "id": "70c96341",
   "metadata": {},
   "outputs": [
    {
     "name": "stdout",
     "output_type": "stream",
     "text": [
      "45\n"
     ]
    }
   ],
   "source": [
    "mul(5,9)"
   ]
  },
  {
   "cell_type": "code",
   "execution_count": 30,
   "id": "b78cc2a6",
   "metadata": {},
   "outputs": [],
   "source": [
    "#4) Define a function that accepts roll number and returns whether the student is present or absent"
   ]
  },
  {
   "cell_type": "code",
   "execution_count": 1,
   "id": "37577d54",
   "metadata": {},
   "outputs": [
    {
     "name": "stdout",
     "output_type": "stream",
     "text": [
      "enter total number of students : 4\n",
      "enter students roll numbers: 23\n",
      "enter students roll numbers: 24\n",
      "enter students roll numbers: 25\n",
      "enter students roll numbers: 26\n",
      "[23, 24, 25, 26]\n",
      "enter the student roll number to check: 27\n"
     ]
    },
    {
     "data": {
      "text/plain": [
       "'He is abscent'"
      ]
     },
     "execution_count": 1,
     "metadata": {},
     "output_type": "execute_result"
    }
   ],
   "source": [
    "def student(num,l):\n",
    "    if num in l:\n",
    "        return \"He is present\"\n",
    "    else: \n",
    "        return \"He is abscent\"\n",
    "l=[]\n",
    "n=int(input(\"enter total number of students : \"))\n",
    "for i in range(n):\n",
    "    num=int(input(\"enter students roll numbers: \"))\n",
    "    l.append(num)\n",
    "print(l)\n",
    "n=int(input(\"enter the student roll number to check: \"))\n",
    "\n",
    "student(n,l)        \n"
   ]
  },
  {
   "cell_type": "code",
   "execution_count": 2,
   "id": "7ab12307",
   "metadata": {},
   "outputs": [],
   "source": [
    "#5. Define a function in python that accepts n values and returns the maximum of n numbers."
   ]
  },
  {
   "cell_type": "code",
   "execution_count": 4,
   "id": "1bab91a0",
   "metadata": {},
   "outputs": [
    {
     "data": {
      "text/plain": [
       "7"
      ]
     },
     "execution_count": 4,
     "metadata": {},
     "output_type": "execute_result"
    }
   ],
   "source": [
    "def max1(*i):\n",
    "    max(i)\n",
    "    return max(i)\n",
    "#n=input(\"enter numbers: \")\n",
    "max1(1,3,5,7)\n"
   ]
  },
  {
   "cell_type": "code",
   "execution_count": 5,
   "id": "eb519cb1",
   "metadata": {},
   "outputs": [],
   "source": [
    "#6. Define a function which counts vowels and consonant in a word.\n"
   ]
  },
  {
   "cell_type": "code",
   "execution_count": 6,
   "id": "e7aad356",
   "metadata": {},
   "outputs": [
    {
     "name": "stdout",
     "output_type": "stream",
     "text": [
      "enter your string:tyuiofgh\n",
      "vovels:  3\n",
      "consonants:  5\n"
     ]
    }
   ],
   "source": [
    "def vovels(s):\n",
    "    c=0\n",
    "    d=0\n",
    "    for i in s:\n",
    "        if (i.lower()==\"a\") or (i.lower()==\"e\") or (i.lower()==\"i\")  or (i.lower()==\"o\") or (i.lower()==\"u\"):\n",
    "            c+=1\n",
    "        else:\n",
    "            d=d+1\n",
    "    print(\"vovels: \",c)\n",
    "    print(\"consonants: \",d)\n",
    "string=input(\"enter your string:\")\n",
    "vovels(string)\n"
   ]
  },
  {
   "cell_type": "code",
   "execution_count": 7,
   "id": "396eee1c",
   "metadata": {},
   "outputs": [],
   "source": [
    "#7. Define a function that returns Factorial of a number."
   ]
  },
  {
   "cell_type": "code",
   "execution_count": 9,
   "id": "4e600d19",
   "metadata": {},
   "outputs": [
    {
     "name": "stdout",
     "output_type": "stream",
     "text": [
      "enter integer: 3\n"
     ]
    },
    {
     "data": {
      "text/plain": [
       "6"
      ]
     },
     "execution_count": 9,
     "metadata": {},
     "output_type": "execute_result"
    }
   ],
   "source": [
    "def fact(n):\n",
    "    fact=1\n",
    "    for i in range(1,n+1):\n",
    "        fact=fact*i\n",
    "    return fact\n",
    "n=int(input(\"enter integer: \"))\n",
    "fact(n)\n"
   ]
  },
  {
   "cell_type": "code",
   "execution_count": 10,
   "id": "3e9279ed",
   "metadata": {},
   "outputs": [],
   "source": [
    "#8. Define a function that accepts radius and returns the area of a circle."
   ]
  },
  {
   "cell_type": "code",
   "execution_count": 11,
   "id": "77d1d3ab",
   "metadata": {},
   "outputs": [
    {
     "name": "stdout",
     "output_type": "stream",
     "text": [
      "enter the radius: 3\n"
     ]
    },
    {
     "data": {
      "text/plain": [
       "28.26"
      ]
     },
     "execution_count": 11,
     "metadata": {},
     "output_type": "execute_result"
    }
   ],
   "source": [
    "def area(r):\n",
    "    radius=3.14*(r**2)\n",
    "    return radius\n",
    "r=int(input(\"enter the radius: \"))\n",
    "area(r)\n"
   ]
  },
  {
   "cell_type": "code",
   "execution_count": 12,
   "id": "6da12d34",
   "metadata": {},
   "outputs": [],
   "source": [
    "#9. Define a function that takes a number as a parameter and check the number is prime or not."
   ]
  },
  {
   "cell_type": "code",
   "execution_count": 14,
   "id": "dd44b83d",
   "metadata": {},
   "outputs": [
    {
     "name": "stdout",
     "output_type": "stream",
     "text": [
      "enter the num you want check: 7\n"
     ]
    },
    {
     "data": {
      "text/plain": [
       "'prime'"
      ]
     },
     "execution_count": 14,
     "metadata": {},
     "output_type": "execute_result"
    }
   ],
   "source": [
    "def prime(x):\n",
    "    c=0\n",
    "    for i in range(1,x+1):\n",
    "        if (x%i==0):\n",
    "            c=c+1\n",
    "    if(c>2):\n",
    "        return \"not prime\"\n",
    "    else:\n",
    "        return \"prime\"\n",
    "n=int(input(\"enter the num you want check: \"))\n",
    "prime(n)"
   ]
  },
  {
   "cell_type": "code",
   "execution_count": 15,
   "id": "3d15cd53",
   "metadata": {},
   "outputs": [],
   "source": [
    "#10. Mary wants to run a 25-mile marathon. When she attempts to sign up for the marathon, she notices the sign-up sheet doesn't \n",
    "#directly state the marathon's length. Instead, the marathon's length is listed in small, different portions. Help Mary find out \n",
    "#how long the marathon actually is. So create a function that ** Return True if the marathon is 25 miles long, otherwise, return \n",
    "#False."
   ]
  },
  {
   "cell_type": "code",
   "execution_count": 16,
   "id": "0fd5a0f4",
   "metadata": {},
   "outputs": [
    {
     "name": "stdout",
     "output_type": "stream",
     "text": [
      "enter the range: 5\n",
      "enter ur element: 6\n",
      "enter ur element: 7\n",
      "enter ur element: 8\n",
      "enter ur element: 9\n",
      "enter ur element: 2\n",
      "[6, 7, 8, 9, 2]\n"
     ]
    },
    {
     "data": {
      "text/plain": [
       "True"
      ]
     },
     "execution_count": 16,
     "metadata": {},
     "output_type": "execute_result"
    }
   ],
   "source": [
    "def marathon(l):\n",
    "    s=0\n",
    "    for i in l:\n",
    "        if(i<0):\n",
    "            i=-(i)\n",
    "            s=s+i\n",
    "        else:\n",
    "            s=s+i\n",
    "    if (s>=25):\n",
    "        return True\n",
    "    else:\n",
    "        return False\n",
    "    \n",
    "l=[]\n",
    "n=int(input(\"enter the range: \"))\n",
    "for i in range(n):\n",
    "    num=int(input(\"enter ur element: \"))\n",
    "    l.append(num)\n",
    "print(l)\n",
    "marathon(l)\n"
   ]
  },
  {
   "cell_type": "code",
   "execution_count": 17,
   "id": "6b4055ad",
   "metadata": {},
   "outputs": [],
   "source": [
    "#11. Create a function that takes a number and returns True if the number is automorphic, False if it isn't."
   ]
  },
  {
   "cell_type": "code",
   "execution_count": 18,
   "id": "75649a02",
   "metadata": {},
   "outputs": [
    {
     "name": "stdout",
     "output_type": "stream",
     "text": [
      "enter the number to ckeck:10\n"
     ]
    },
    {
     "data": {
      "text/plain": [
       "False"
      ]
     },
     "execution_count": 18,
     "metadata": {},
     "output_type": "execute_result"
    }
   ],
   "source": [
    "def automorphic(x=5):\n",
    "    square=x**2\n",
    "    s=str(square)\n",
    "    if(str(x)==s[-1]):\n",
    "        return True\n",
    "    else:\n",
    "        return False\n",
    "num=int(input(\"enter the number to ckeck:\"))\n",
    "automorphic(num)\n"
   ]
  },
  {
   "cell_type": "code",
   "execution_count": 19,
   "id": "d6ebe0cc",
   "metadata": {},
   "outputs": [],
   "source": [
    "#12) Create a function, that will take given a, b, c, and do the following: Add a to itself b times and Check if the result \n",
    "#is divisible by c.and return true if it is divisible by c or false."
   ]
  },
  {
   "cell_type": "code",
   "execution_count": 23,
   "id": "9ea35528",
   "metadata": {},
   "outputs": [
    {
     "name": "stdout",
     "output_type": "stream",
     "text": [
      "enter a number: 2\n",
      "enter number2: 2\n",
      "enter number3: 3\n"
     ]
    },
    {
     "data": {
      "text/plain": [
       "False"
      ]
     },
     "execution_count": 23,
     "metadata": {},
     "output_type": "execute_result"
    }
   ],
   "source": [
    "def check(a=1,b=2,c=2):\n",
    "    num=0\n",
    "    for i in range(b):\n",
    "        num=num+a\n",
    "    if(num%c==0):\n",
    "        return True\n",
    "    else:\n",
    "        return False\n",
    "x=int(input(\"enter a number: \"))\n",
    "y=int(input(\"enter number2: \"))\n",
    "z=int(input(\"enter number3: \"))\n",
    "check(x,y,z)\n"
   ]
  },
  {
   "cell_type": "code",
   "execution_count": 22,
   "id": "8a2fb50e",
   "metadata": {},
   "outputs": [],
   "source": [
    "#13) Create a function that changes specific words into emoticons. Given a sentence as a string, replace the words \n",
    "#smile, grin, sad and mad with their corresponding emoticons."
   ]
  },
  {
   "cell_type": "code",
   "execution_count": 24,
   "id": "1aee005d",
   "metadata": {},
   "outputs": [
    {
     "name": "stdout",
     "output_type": "stream",
     "text": [
      "enter the string: qwertyuio\n"
     ]
    },
    {
     "data": {
      "text/plain": [
       "'qwertyuio'"
      ]
     },
     "execution_count": 24,
     "metadata": {},
     "output_type": "execute_result"
    }
   ],
   "source": [
    "def emoji(s):\n",
    "    l=s.split()\n",
    "    for i in l:\n",
    "        if(i==\"smile\"):\n",
    "            s=s.replace(\"smile\",\":D\")\n",
    "        elif(i==\"sad\"):\n",
    "            s=s.replace(\"sad\",\":(\")\n",
    "        elif(i==\"grin\"):\n",
    "            s=replace(\"sad\",\":)\")\n",
    "        elif(i==\"mad\"):\n",
    "            s=s.replace(\"sad\",\":p\")\n",
    "    return s\n",
    "string=input(\"enter the string: \")\n",
    "emoji(string)\n"
   ]
  },
  {
   "cell_type": "code",
   "execution_count": 25,
   "id": "422d367c",
   "metadata": {},
   "outputs": [],
   "source": [
    "#14) Write a Python program to square and cube every number in a given list of integers using Lambda."
   ]
  },
  {
   "cell_type": "code",
   "execution_count": 26,
   "id": "37534af6",
   "metadata": {},
   "outputs": [
    {
     "name": "stdout",
     "output_type": "stream",
     "text": [
      "enter the range: 4\n",
      "enter the numbers: 7\n",
      "enter the numbers: 6\n",
      "enter the numbers: 4\n",
      "enter the numbers: 3\n",
      "[7, 6, 4, 3]\n",
      "squares:  [49, 36, 16, 9]\n",
      "cubes:  [343, 216, 64, 27]\n"
     ]
    }
   ],
   "source": [
    "l=[]\n",
    "n=int(input(\"enter the range: \"))\n",
    "for i in range(n):\n",
    "    num=input(\"enter the numbers: \")\n",
    "    if(num.isdigit()):\n",
    "        num=int(num)\n",
    "        l.append(num)\n",
    "    else:\n",
    "        l.append(num)\n",
    "print(l)\n",
    "y=list(map(lambda x:x**2,l))\n",
    "x=list(map(lambda x:x**3,l))\n",
    "print(\"squares: \",y)\n",
    "print(\"cubes: \",x)"
   ]
  },
  {
   "cell_type": "code",
   "execution_count": 27,
   "id": "5954e2c4",
   "metadata": {},
   "outputs": [],
   "source": [
    "#15)Write a Python program to check whether a given string is number or not using Lambda."
   ]
  },
  {
   "cell_type": "code",
   "execution_count": 28,
   "id": "c17a5e48",
   "metadata": {},
   "outputs": [
    {
     "name": "stdout",
     "output_type": "stream",
     "text": [
      "enter a string to check: fghjk\n"
     ]
    },
    {
     "data": {
      "text/plain": [
       "False"
      ]
     },
     "execution_count": 28,
     "metadata": {},
     "output_type": "execute_result"
    }
   ],
   "source": [
    "s=input(\"enter a string to check: \")\n",
    "num=lambda x:x.isdigit() \n",
    "num(s)"
   ]
  },
  {
   "cell_type": "code",
   "execution_count": null,
   "id": "dc7f0f83",
   "metadata": {},
   "outputs": [],
   "source": []
  }
 ],
 "metadata": {
  "kernelspec": {
   "display_name": "Python 3 (ipykernel)",
   "language": "python",
   "name": "python3"
  },
  "language_info": {
   "codemirror_mode": {
    "name": "ipython",
    "version": 3
   },
   "file_extension": ".py",
   "mimetype": "text/x-python",
   "name": "python",
   "nbconvert_exporter": "python",
   "pygments_lexer": "ipython3",
   "version": "3.11.3"
  }
 },
 "nbformat": 4,
 "nbformat_minor": 5
}
