{
 "cells": [
  {
   "cell_type": "code",
   "execution_count": 5,
   "id": "620d34ff",
   "metadata": {},
   "outputs": [],
   "source": [
    "#1.write a program to accept two numbers from the user and calculate multiplication,division"
   ]
  },
  {
   "cell_type": "code",
   "execution_count": 1,
   "id": "372f7be5",
   "metadata": {},
   "outputs": [
    {
     "name": "stdout",
     "output_type": "stream",
     "text": [
      "enter the first number:40\n",
      "enter the second number:10\n",
      "enter your symbol:/\n",
      "40/10=4.0\n"
     ]
    }
   ],
   "source": [
    "num1=int(input(\"enter the first number:\"))\n",
    "num2=int(input(\"enter the second number:\"))\n",
    "sym=input(\"enter your symbol:\")\n",
    "if sym=='*':\n",
    "    print(\"{}*{}={}\".format(num1,num2,num1*num2))\n",
    "if sym=='/':    \n",
    "    print(\"{}/{}={}\".format(num1,num2,num1/num2))\n"
   ]
  },
  {
   "cell_type": "code",
   "execution_count": 3,
   "id": "cb0d811b",
   "metadata": {},
   "outputs": [],
   "source": [
    "#2.write a python program to print the characters from a string that are present at an even index"
   ]
  },
  {
   "cell_type": "code",
   "execution_count": 6,
   "id": "f9fd4028",
   "metadata": {},
   "outputs": [
    {
     "name": "stdout",
     "output_type": "stream",
     "text": [
      "enter your stringworld\n"
     ]
    },
    {
     "data": {
      "text/plain": [
       "'wrd'"
      ]
     },
     "execution_count": 6,
     "metadata": {},
     "output_type": "execute_result"
    }
   ],
   "source": [
    "x=input(\"enter your string\")\n",
    "x[::2]"
   ]
  },
  {
   "cell_type": "code",
   "execution_count": 5,
   "id": "ec512370",
   "metadata": {},
   "outputs": [],
   "source": [
    "#3.Write a python program to print the characters from a string that are present at an odd index"
   ]
  },
  {
   "cell_type": "code",
   "execution_count": 7,
   "id": "abd19a9e",
   "metadata": {},
   "outputs": [
    {
     "name": "stdout",
     "output_type": "stream",
     "text": [
      "enter your stringpython\n"
     ]
    },
    {
     "data": {
      "text/plain": [
       "'yhn'"
      ]
     },
     "execution_count": 7,
     "metadata": {},
     "output_type": "execute_result"
    }
   ],
   "source": [
    "x=input(\"enter your string\")\n",
    "x[1::2]"
   ]
  },
  {
   "cell_type": "code",
   "execution_count": 8,
   "id": "9f82f87a",
   "metadata": {},
   "outputs": [],
   "source": [
    "#4.Write a python program which will print the sum of the two numbers if the two numbers are even or it will print the difference of two numbers"
   ]
  },
  {
   "cell_type": "code",
   "execution_count": 10,
   "id": "8bd0de73",
   "metadata": {},
   "outputs": [
    {
     "name": "stdout",
     "output_type": "stream",
     "text": [
      "enter n1:8\n",
      "enter n2:12\n",
      "8+12=20\n"
     ]
    }
   ],
   "source": [
    "num1=int(input(\"enter n1:\"))\n",
    "num2=int(input(\"enter n2:\"))\n",
    "num3=num1+num2\n",
    "if num1%2==0 and num2%2==0:\n",
    "     print(\"{}+{}={}\".format(num1,num2,num1+num2))\n",
    "else:\n",
    "    print(\"{}-{}={}\".format(num1,num2,num1-num2))  \n"
   ]
  },
  {
   "cell_type": "code",
   "execution_count": 11,
   "id": "9cff5da9",
   "metadata": {},
   "outputs": [],
   "source": [
    "#5.Write a python program to convert all even indexed alphabets to upper and odd indexed char"
   ]
  },
  {
   "cell_type": "code",
   "execution_count": 1,
   "id": "201661bf",
   "metadata": {},
   "outputs": [
    {
     "name": "stdout",
     "output_type": "stream",
     "text": [
      "pythonjava\n",
      "PyThOnJaVa"
     ]
    }
   ],
   "source": [
    "x=input()\n",
    "for y in range(len(x)):\n",
    "    if y%2==0:\n",
    "        print(x[y].upper(),end=\"\")\n",
    "    else:\n",
    "        print(x[y].lower(),end=\"\")"
   ]
  },
  {
   "cell_type": "code",
   "execution_count": null,
   "id": "b6d35e29",
   "metadata": {},
   "outputs": [],
   "source": [
    "#6.Write a python program which will print true if the input number is divisible by 5 or else false"
   ]
  },
  {
   "cell_type": "code",
   "execution_count": 4,
   "id": "6832c896",
   "metadata": {},
   "outputs": [
    {
     "name": "stdout",
     "output_type": "stream",
     "text": [
      "enter any num25\n",
      "True\n"
     ]
    }
   ],
   "source": [
    "num1=(int(input(\"enter any num\")))\n",
    "if num1%5==0:\n",
    "    print(\"True\")\n",
    "else:\n",
    "    print(\"False\")"
   ]
  },
  {
   "cell_type": "code",
   "execution_count": 5,
   "id": "2f89b701",
   "metadata": {},
   "outputs": [],
   "source": [
    "#7.Given two integer numbers return their product only if the product is greater than 1000,else return their sum"
   ]
  },
  {
   "cell_type": "code",
   "execution_count": 20,
   "id": "464500dd",
   "metadata": {},
   "outputs": [
    {
     "name": "stdout",
     "output_type": "stream",
     "text": [
      "enter n1 :3\n",
      "enter n2 :5\n",
      "8\n"
     ]
    }
   ],
   "source": [
    "num1=int(input(\"enter n1 :\"))\n",
    "num2=int(input(\"enter n2 :\"))\n",
    "num3=num1*num2\n",
    "num4=num1+num2\n",
    "if num3>1000:\n",
    "    print(num3)\n",
    "else:\n",
    "    print(num4)\n"
   ]
  },
  {
   "cell_type": "code",
   "execution_count": 8,
   "id": "b78d3a01",
   "metadata": {},
   "outputs": [],
   "source": [
    "#8.Given two strings x,y writes a program to return a new string made of x and y's first middle,and last characters"
   ]
  },
  {
   "cell_type": "code",
   "execution_count": 23,
   "id": "4830e222",
   "metadata": {},
   "outputs": [
    {
     "name": "stdout",
     "output_type": "stream",
     "text": [
      "pjtvos\n"
     ]
    }
   ],
   "source": [
    "x=\"python\"\n",
    "y=\"javas\"\n",
    "print(\"{}{}{}{}{}{}\".format(x[0],y[0],x[2],y[2],x[4],y[4]))"
   ]
  },
  {
   "cell_type": "code",
   "execution_count": 9,
   "id": "fe8519ef",
   "metadata": {},
   "outputs": [],
   "source": [
    "#9.Write a python program to take three names as input from a user in the single input()function call"
   ]
  },
  {
   "cell_type": "code",
   "execution_count": 33,
   "id": "5795b486",
   "metadata": {},
   "outputs": [
    {
     "name": "stdout",
     "output_type": "stream",
     "text": [
      "name1 p1\n",
      "name2 p2\n",
      "name3 p3\n"
     ]
    }
   ],
   "source": [
    "def input(name1,name2,name3):\n",
    "    print(\"name1 {}\\nname2 {}\\nname3 {}\".format(name1,name2,name3))\n",
    "input (\"p1\",\"p2\",\"p3\")\n"
   ]
  },
  {
   "cell_type": "code",
   "execution_count": null,
   "id": "97dbb108",
   "metadata": {},
   "outputs": [],
   "source": [
    "#10.Write a python program to get a string from a given string where all occurrence of its first char have been changed to '@',except the first char itself."
   ]
  },
  {
   "cell_type": "code",
   "execution_count": 3,
   "id": "20dc2dee",
   "metadata": {},
   "outputs": [
    {
     "name": "stdout",
     "output_type": "stream",
     "text": [
      "jyothikariyaaa\n",
      "a\n",
      "@\n",
      "jyothikariy@@@\n"
     ]
    }
   ],
   "source": [
    "string1=input()\n",
    "x=input()\n",
    "y=input()\n",
    "new=string1.replace(x,y)\n",
    "print(new.replace(y,x,1))\n"
   ]
  },
  {
   "cell_type": "code",
   "execution_count": 2,
   "id": "f3ad289c",
   "metadata": {},
   "outputs": [],
   "source": [
    "#11.Write a python program to add 'ing' at the end of a given string.If the given string already ends with 'ing' then add 'ly' instead.If the string length of the given string is less than 3,leave it. "
   ]
  },
  {
   "cell_type": "code",
   "execution_count": 34,
   "id": "f250f5e8",
   "metadata": {},
   "outputs": [
    {
     "name": "stdout",
     "output_type": "stream",
     "text": [
      "enter the string : application\n",
      "applicationing\n"
     ]
    }
   ],
   "source": [
    "s1=input(\"enter the string : \")\n",
    "if len(s1)>=3:\n",
    "    print(\"{}\".format(s1)+\"ing\")\n",
    "elif s1[-3]==\"i\" and s1[-2]==\"n\" and s1[-1]==\"g\":\n",
    "    print(\"{}\".format(s1)+\"ly\")\n",
    "else:\n",
    "    print(s1)"
   ]
  },
  {
   "cell_type": "code",
   "execution_count": 11,
   "id": "f4bb812c",
   "metadata": {},
   "outputs": [],
   "source": [
    "#12.Write a python program that accepts two inputs num1 and num2 print true if one of them is 10 or iftheir sum is 10 otherwise print False"
   ]
  },
  {
   "cell_type": "code",
   "execution_count": null,
   "id": "d077cd25",
   "metadata": {},
   "outputs": [],
   "source": [
    "x=int(input(\"enter x value: \"))\n",
    "y=int(input(\"enter y value: \"))\n",
    "z=int(input(\"enter z value: \"))\n",
    "sum=x+y+z\n",
    "if (x==10 or  y==10 or z==10) or (sum==10):\n"
   ]
  },
  {
   "cell_type": "code",
   "execution_count": 12,
   "id": "cba26b05",
   "metadata": {},
   "outputs": [],
   "source": [
    "#13.Write a python program that accepts three inputs x,y and z print True if x*y>z otherwise False"
   ]
  },
  {
   "cell_type": "code",
   "execution_count": 1,
   "id": "3d104268",
   "metadata": {},
   "outputs": [
    {
     "name": "stdout",
     "output_type": "stream",
     "text": [
      "enter x value: 50\n",
      "enter y value: 5\n",
      "enter z value: 7\n",
      "True\n"
     ]
    }
   ],
   "source": [
    "x=int(input(\"enter x value: \"))\n",
    "y=int(input(\"enter y value: \"))\n",
    "z=int(input(\"enter z value: \"))\n",
    "if x*y>z:\n",
    "    print(\"True\")\n",
    "else:\n",
    "    print(\"False\")"
   ]
  },
  {
   "cell_type": "code",
   "execution_count": 13,
   "id": "1d359612",
   "metadata": {},
   "outputs": [],
   "source": [
    "#14.Write a python program that accepts two  strings input returns True depending on whether the total number of characeters in the first string is equal to the total number of characters in the second string"
   ]
  },
  {
   "cell_type": "code",
   "execution_count": 3,
   "id": "d9f67742",
   "metadata": {},
   "outputs": [
    {
     "name": "stdout",
     "output_type": "stream",
     "text": [
      "enter the first string: fghjkl\n",
      "enter the second string: rtyui\n",
      "False\n"
     ]
    }
   ],
   "source": [
    "str1=input(\"enter the first string: \")\n",
    "str2=input(\"enter the second string: \")\n",
    "if len(str1)==len(str2):\n",
    "    print(\"True\")\n",
    "else:\n",
    "    print(\"False\")\n"
   ]
  },
  {
   "cell_type": "code",
   "execution_count": 14,
   "id": "a8bfc5ac",
   "metadata": {},
   "outputs": [],
   "source": [
    "#15.write a python program that takes a string input,we'll say that the front is the first three characters of the string.If the string length is less than three characters,the front is whatever is there.Return a new string,which is three copies of the front"
   ]
  },
  {
   "cell_type": "code",
   "execution_count": 4,
   "id": "d4d17c88",
   "metadata": {},
   "outputs": [
    {
     "name": "stdout",
     "output_type": "stream",
     "text": [
      "enter the string: up\n",
      "upupup\n"
     ]
    }
   ],
   "source": [
    "stri=input(\"enter the string: \")\n",
    "if len(stri)>=3:\n",
    "    print(stri[0:3])\n",
    "else:\n",
    "    print(stri*3)"
   ]
  },
  {
   "cell_type": "code",
   "execution_count": 15,
   "id": "ed245119",
   "metadata": {},
   "outputs": [],
   "source": [
    "#16.Write a python program that takes in a word and determines whether or not it is plural.A plural word is one that ends in \"s\"."
   ]
  },
  {
   "cell_type": "code",
   "execution_count": 6,
   "id": "2b1b44aa",
   "metadata": {},
   "outputs": [
    {
     "name": "stdout",
     "output_type": "stream",
     "text": [
      "enter string : epic\n",
      "epi\n"
     ]
    }
   ],
   "source": [
    "s=input(\"enter string : \")\n",
    "if len(s)>=3:\n",
    "    print(s[0:3])\n",
    "else:\n",
    "    print(s*3)"
   ]
  },
  {
   "cell_type": "code",
   "execution_count": 16,
   "id": "ce0eb56a",
   "metadata": {},
   "outputs": [],
   "source": [
    "#17.A bartender is writing a simple program to determine whether he should serve drinks to someone.He only serves drinks to people 18 and older and when he's not on break.Given the person's age,and whether break time is in session,create a python program which prints  whether he should serve drinks or not    "
   ]
  },
  {
   "cell_type": "code",
   "execution_count": 7,
   "id": "ad659e93",
   "metadata": {},
   "outputs": [
    {
     "name": "stdout",
     "output_type": "stream",
     "text": [
      "enter age:20\n",
      "enter 'yes' for break and 'no' for not in break: no\n",
      "bartender can not serve\n"
     ]
    }
   ],
   "source": [
    "age=int(input(\"enter age:\"))\n",
    "leave=input(\"enter 'yes' for break and 'no' for not in break: \")\n",
    "if(age>=18) and (leave=='0'):\n",
    "    print(\"bartender can serve\")\n",
    "else:\n",
    "    print(\"bartender can not serve\")"
   ]
  },
  {
   "cell_type": "code",
   "execution_count": 17,
   "id": "899024b6",
   "metadata": {},
   "outputs": [],
   "source": [
    "#18.Manoj kumar has family and friends.Help him remind them who is who.Given a string with a name,return the relation of that person to manoj kumar"
   ]
  },
  {
   "cell_type": "code",
   "execution_count": 1,
   "id": "006cdc83",
   "metadata": {},
   "outputs": [
    {
     "name": "stdout",
     "output_type": "stream",
     "text": [
      "riya\n",
      "riya is a mother of manoj\n"
     ]
    }
   ],
   "source": [
    "names=[\"siddhu\",\"riya\",\"janaki\",\"bindhu\"]\n",
    "relation=[\"father\",\"mother\",\"bro\",\"sis\"]\n",
    "person=input()\n",
    "for i in range(len(names)):\n",
    "    if (person==names[i]):\n",
    "        print(person,\"is a\",relation[i],\"of manoj\")"
   ]
  },
  {
   "cell_type": "code",
   "execution_count": 18,
   "id": "eb9268b9",
   "metadata": {},
   "outputs": [],
   "source": [
    "#19.Write a python program that takes a string,breaks it up and returns it with vowels first,consonants second.For any character that's not a vowel,treats them like consonants"
   ]
  },
  {
   "cell_type": "code",
   "execution_count": 2,
   "id": "1d50d266",
   "metadata": {},
   "outputs": [
    {
     "name": "stdout",
     "output_type": "stream",
     "text": [
      "chandu\n",
      "auchnd\n"
     ]
    }
   ],
   "source": [
    "string=input()\n",
    "a=string.split()\n",
    "r=[]\n",
    "vowels=[\"a\",\"e\",\"i\",\"o\",\"u\"]\n",
    "for i in range(len(string)):\n",
    "    if(string[i] in vowels):\n",
    "        r.append(string[i])\n",
    "for i in range(len(string)):\n",
    "    if (string[i] not in vowels):\n",
    "        r.append(string[i])\n",
    "final_string=\"\".join(r)\n",
    "print(final_string)"
   ]
  },
  {
   "cell_type": "code",
   "execution_count": null,
   "id": "3194f0d1",
   "metadata": {},
   "outputs": [],
   "source": [
    "#20.Create a dynamic calculator which asks for numbers and operator and return the answers."
   ]
  },
  {
   "cell_type": "code",
   "execution_count": 3,
   "id": "44930948",
   "metadata": {},
   "outputs": [
    {
     "name": "stdout",
     "output_type": "stream",
     "text": [
      "enter first number:\n",
      "10\n",
      "enter second number:\n",
      "1\n",
      "enter  operator:\n",
      "+\n",
      "addition of two numbers is : 11\n",
      "enter any letter to continue and q to quit\n",
      "q\n",
      "calucator exited\n"
     ]
    }
   ],
   "source": [
    "while True:\n",
    "    print(\"enter first number:\")\n",
    "    a=int(input())\n",
    "    print(\"enter second number:\")\n",
    "    b=int(input())\n",
    "    add=a+b\n",
    "    sub=a-b\n",
    "    mul=a*b\n",
    "    div=a/b\n",
    "    modulodiv=a%b\n",
    "    floordiv=a//b\n",
    "    print(\"enter  operator:\")\n",
    "    operator=input()\n",
    "    if(operator==\"+\"):\n",
    "        print(\"addition of two numbers is :\",add)\n",
    "    elif(operator==\"-\"):\n",
    "        print(\"substraction of two numbers is :\",sub)\n",
    "    elif(operator==\"*\"):\n",
    "        print(\"multiplication of two numbers is :\",mul)\n",
    "    elif(operator==\"/\"):\n",
    "        print(\"division of two numbers is :\",div)\n",
    "    elif(operator==\"%\"):\n",
    "        print(\"modulo division of two numbers is :\",modulodiv)\n",
    "    elif(operator==\"//\"):\n",
    "        print(\"floor division of two numbers is :\",floordiv)\n",
    "    else:\n",
    "        print(\"invalid input\")\n",
    "    print(\"enter any letter to continue and q to quit\")\n",
    "    val=input()\n",
    "    if(val!=\"q\"):\n",
    "        continue\n",
    "    else:\n",
    "        print(\"calucator exited\")\n",
    "        break\n"
   ]
  },
  {
   "cell_type": "markdown",
   "id": "ae935963",
   "metadata": {},
   "source": []
  },
  {
   "cell_type": "code",
   "execution_count": null,
   "id": "685fc4d1",
   "metadata": {},
   "outputs": [],
   "source": []
  },
  {
   "cell_type": "code",
   "execution_count": null,
   "id": "c9336389",
   "metadata": {},
   "outputs": [],
   "source": []
  },
  {
   "cell_type": "code",
   "execution_count": null,
   "id": "4b760d06",
   "metadata": {},
   "outputs": [],
   "source": []
  },
  {
   "cell_type": "code",
   "execution_count": null,
   "id": "504f065b",
   "metadata": {},
   "outputs": [],
   "source": []
  },
  {
   "cell_type": "code",
   "execution_count": null,
   "id": "282cf545",
   "metadata": {},
   "outputs": [],
   "source": []
  },
  {
   "cell_type": "code",
   "execution_count": null,
   "id": "24f54c8a",
   "metadata": {},
   "outputs": [],
   "source": []
  },
  {
   "cell_type": "code",
   "execution_count": null,
   "id": "0389afbc",
   "metadata": {},
   "outputs": [],
   "source": []
  }
 ],
 "metadata": {
  "kernelspec": {
   "display_name": "Python 3 (ipykernel)",
   "language": "python",
   "name": "python3"
  },
  "language_info": {
   "codemirror_mode": {
    "name": "ipython",
    "version": 3
   },
   "file_extension": ".py",
   "mimetype": "text/x-python",
   "name": "python",
   "nbconvert_exporter": "python",
   "pygments_lexer": "ipython3",
   "version": "3.11.3"
  }
 },
 "nbformat": 4,
 "nbformat_minor": 5
}
